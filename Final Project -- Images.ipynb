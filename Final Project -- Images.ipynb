{
 "cells": [
  {
   "cell_type": "code",
   "execution_count": 1,
   "metadata": {
    "collapsed": true
   },
   "outputs": [],
   "source": [
    "%matplotlib inline\n",
    "import numpy as np\n",
    "import scipy as sp\n",
    "import matplotlib as mpl\n",
    "import matplotlib.cm as cm\n",
    "import matplotlib.pyplot as plt\n",
    "import pandas as pd\n",
    "import time\n",
    "pd.set_option('display.width', 500)\n",
    "pd.set_option('display.max_columns', 100)\n",
    "pd.set_option('display.notebook_repr_html', True)\n",
    "import seaborn as sns\n",
    "sns.set_style(\"whitegrid\")\n",
    "sns.set_context(\"poster\")\n",
    "\n",
    "from pyquery import PyQuery as pq\n",
    "from bs4 import BeautifulSoup\n",
    "import requests"
   ]
  },
  {
   "cell_type": "code",
   "execution_count": 106,
   "metadata": {
    "collapsed": false,
    "scrolled": false
   },
   "outputs": [],
   "source": [
    "\n",
    "linkVec = []\n",
    "\n",
    "for thisPage in [3]:#[2,3,4,5]:\n",
    "    allLinkPage=requests.get(\"http://www.sirlinksalot.net/archives/thebachelor%d.html\" % (thisPage))\n",
    "    soup = BeautifulSoup(allLinkPage.text, \"html.parser\")\n",
    "    rows = soup.find_all(\"a\")\n",
    "    for row in rows:\n",
    "        rowString = str(row)\n",
    "        checkASCII = [ord(letter) for letter in rowString]\n",
    "        #print max(checkASCII),min(checkASCII)\n",
    "        if max(checkASCII)<127 and min(checkASCII)>9:\n",
    "        #    print max(checkASCII)<127 and min(checkASCII)>10\n",
    "            thisLink = str(row.get(\"href\"))\n",
    "            if \"sirlinksalot\" not in thisLink: #remove internal links\n",
    "                if \"clickbank.net\" not in thisLink: #remove ad links\n",
    "                    if \"pub43\" not in thisLink: #remove ad links\n",
    "                        if \"bilbo\" not in thisLink: #remove ad links\n",
    "                            if \"fastclick\" not in thisLink: #remove ad links\n",
    "                                if \"casalemedia\" not in thisLink: #remove ad links\n",
    "                                    linkVec.append(thisLink)\n",
    "                                \n",
    "\n",
    "\n",
    "#cleaner = lambda r: [int(r[0].get_text()), r[1].get_text(), r[2].get_text(), r[2].find(\"a\").get(\"href\")]\n",
    "#fields = [\"ranking\", \"title\", \"band_singer\", \"url\"]\n",
    "#songs = [dict(zip(fields, cleaner(row.find_all(\"td\")))) for row in rows]"
   ]
  },
  {
   "cell_type": "code",
   "execution_count": 157,
   "metadata": {
    "collapsed": false
   },
   "outputs": [],
   "source": [
    "#sort our vector to group similar website roots\n",
    "linkVec = sorted(linkVec[0:20])"
   ]
  },
  {
   "cell_type": "code",
   "execution_count": 158,
   "metadata": {
    "collapsed": false
   },
   "outputs": [
    {
     "name": "stdout",
     "output_type": "stream",
     "text": [
      "1  out of  20  done\n",
      "2  out of  20  done\n",
      "3  out of  20  done\n",
      "4  out of  20  done\n",
      "5  out of  20  done\n",
      "6  out of  20  done\n",
      "7  out of  20  done\n",
      "8  out of  20  done\n",
      "9  out of  20  done\n",
      "10  out of  20  done\n",
      "11  out of  20  done\n",
      "12  out of  20  done\n",
      "13  out of  20  done\n",
      "14  out of  20  done\n",
      "15  out of  20  done\n",
      "16  out of  20  done\n",
      "17  out of  20  done\n",
      "18  out of  20  done\n",
      "19  out of  20  done\n",
      "20  out of  20  done\n"
     ]
    }
   ],
   "source": [
    "archivedLinkVec = []\n",
    "\n",
    "count = 0;\n",
    "length = len(linkVec)\n",
    "for thisLink in linkVec:\n",
    "    allLinkPage=requests.get(\"https://web.archive.org/web/*/\" + thisLink)\n",
    "    soup = BeautifulSoup(allLinkPage.text, \"html.parser\")\n",
    "    if soup.find_all(\"div\", attrs={\"class\": \"date captures\"}):\n",
    "        row = soup.find_all(\"div\", attrs={\"class\": \"date captures\"})[0]\n",
    "        row = row.find(\"a\").get(\"href\")\n",
    "        archivedLinkVec.append(str(\"https://web.archive.org\" + row))\n",
    "    count = count+1\n",
    "    print count, \" out of \", length, \" done\""
   ]
  },
  {
   "cell_type": "code",
   "execution_count": 160,
   "metadata": {
    "collapsed": false
   },
   "outputs": [
    {
     "data": {
      "text/plain": [
       "['https://web.archive.org/web/20130103084536/http://blog.zap2it.com/frominsidethebox/2012/11/bachelor-finale-spoiler-who-does-sean-lowe-pick-and-are-they-engaged.html',\n",
       " 'https://web.archive.org/web/20130110065255/http://blog.zap2it.com/frominsidethebox/2012/12/the-bachelor-premiere-sean-lowe-to-bend-the-rules-and-more-things-to-expect.html',\n",
       " 'https://web.archive.org/web/20130128032851/http://blog.zap2it.com/frominsidethebox/2012/12/the-bachelor-spoilers-sean-lowe-tells-us-what-to-expect-in-season-17.html',\n",
       " 'https://web.archive.org/web/20130131052218/http://insidetv.ew.com/2012/12/12/bachelor-sean-lowe/',\n",
       " 'https://web.archive.org/web/20150906035505/http://www.dailymail.co.uk/tvshowbiz/article-2243684/The-Bachelor-2013-Models-galore-cruise-ship-entertainer-poker-dealer-Meet-ladies-compete-win-hunky-Sean-Lowes-heart.html?ito=feeds-newsxml',\n",
       " 'https://web.archive.org/web/20150906030546/http://www.digitalspy.com/celebrity/s77/the-bachelor/news/a442707/bachelor-molly-mesnick-feeling-really-good-with-pregnancy.html',\n",
       " 'https://web.archive.org/web/20140110040818/http://www.eonline.com/news/367829/kristin-chenoweth-on-dating-bachelor-jake-pavelka-i-m-single-and-loving-it',\n",
       " 'https://web.archive.org/web/20130105043457/http://www.eonline.com/news/368795/the-bachelor-meet-the-ladies-competing-for-sean-lowe-s-love',\n",
       " 'https://web.archive.org/web/20130104181657/http://www.eonline.com/news/370130/the-bachelor-season-17-photos-see-sean-lowe-s-ladies',\n",
       " 'https://web.archive.org/web/20130105042956/http://www.eonline.com/news/373498/melissa-rycroft-dishes-on-ashley-and-j-p-s-chances-and-why-she-won-t-watch-the-bachelor-s-new-season',\n",
       " 'https://web.archive.org/web/20130103103357/http://www.examiner.com/article/the-bachelor-premiere-photos-sean-lowe-s-search-ready-for-sharing',\n",
       " 'https://web.archive.org/web/20130101071212/http://www.examiner.com/article/the-bachelor-sean-lowe-talks-about-new-season-and-emily-maynard',\n",
       " 'https://web.archive.org/web/20121218033344/http://www.examiner.com/article/the-bachelor-season-17-spoilers-new-premiere-drama-details',\n",
       " 'https://web.archive.org/web/20121221105955/http://www.examiner.com/article/the-bachelor-season-17-spoilers-sean-lowe-talks-and-more-drama',\n",
       " 'https://web.archive.org/web/20150914181905/http://www.people.com/people/article/0,,20653120,00.html',\n",
       " 'https://web.archive.org/web/20150921064133/http://www.usmagazine.com/entertainment/news/meet-sean-lowes-25-sexy-bachelor-contestants-2012512']"
      ]
     },
     "execution_count": 160,
     "metadata": {},
     "output_type": "execute_result"
    }
   ],
   "source": [
    "archivedLinkVec"
   ]
  },
  {
   "cell_type": "code",
   "execution_count": null,
   "metadata": {
    "collapsed": true
   },
   "outputs": [],
   "source": [
    "#we can assume that each article from the Examiner website will have similar HTML formatting."
   ]
  }
 ],
 "metadata": {
  "kernelspec": {
   "display_name": "Python 2",
   "language": "python",
   "name": "python2"
  },
  "language_info": {
   "codemirror_mode": {
    "name": "ipython",
    "version": 2
   },
   "file_extension": ".py",
   "mimetype": "text/x-python",
   "name": "python",
   "nbconvert_exporter": "python",
   "pygments_lexer": "ipython2",
   "version": "2.7.10"
  }
 },
 "nbformat": 4,
 "nbformat_minor": 0
}
