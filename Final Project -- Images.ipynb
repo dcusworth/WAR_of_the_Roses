{
 "cells": [
  {
   "cell_type": "markdown",
   "metadata": {},
   "source": [
    "#1. Scrape Data"
   ]
  },
  {
   "cell_type": "code",
   "execution_count": 247,
   "metadata": {
    "collapsed": true
   },
   "outputs": [],
   "source": [
    "%matplotlib inline\n",
    "import numpy as np\n",
    "import scipy as sp\n",
    "import matplotlib as mpl\n",
    "import matplotlib.cm as cm\n",
    "import matplotlib.pyplot as plt\n",
    "import pandas as pd\n",
    "import time\n",
    "pd.set_option('display.width', 500)\n",
    "pd.set_option('display.max_columns', 100)\n",
    "pd.set_option('display.notebook_repr_html', True)\n",
    "import seaborn as sns\n",
    "sns.set_style(\"whitegrid\")\n",
    "sns.set_context(\"poster\")\n",
    "\n",
    "from pyquery import PyQuery as pq\n",
    "from bs4 import BeautifulSoup\n",
    "import requests"
   ]
  },
  {
   "cell_type": "code",
   "execution_count": 161,
   "metadata": {
    "collapsed": false,
    "scrolled": false
   },
   "outputs": [],
   "source": [
    "\n",
    "linkVec = []\n",
    "\n",
    "for thisPage in [3]:#[2,3,4,5]:\n",
    "    allLinkPage=requests.get(\"http://www.sirlinksalot.net/archives/thebachelor%d.html\" % (thisPage))\n",
    "    soup = BeautifulSoup(allLinkPage.text, \"html.parser\")\n",
    "    rows = soup.find_all(\"a\")\n",
    "    for row in rows:\n",
    "        rowString = str(row)\n",
    "        checkASCII = [ord(letter) for letter in rowString]\n",
    "        #print max(checkASCII),min(checkASCII)\n",
    "        if max(checkASCII)<127 and min(checkASCII)>9:\n",
    "        #    print max(checkASCII)<127 and min(checkASCII)>10\n",
    "            thisLink = str(row.get(\"href\"))\n",
    "            if \"sirlinksalot\" not in thisLink: #remove internal links\n",
    "                if \"clickbank.net\" not in thisLink: #remove ad links\n",
    "                    if \"pub43\" not in thisLink: #remove ad links\n",
    "                        if \"bilbo\" not in thisLink: #remove ad links\n",
    "                            if \"fastclick\" not in thisLink: #remove ad links\n",
    "                                if \"casalemedia\" not in thisLink: #remove ad links\n",
    "                                    linkVec.append(thisLink)\n",
    "                                \n",
    "\n",
    "\n",
    "#cleaner = lambda r: [int(r[0].get_text()), r[1].get_text(), r[2].get_text(), r[2].find(\"a\").get(\"href\")]\n",
    "#fields = [\"ranking\", \"title\", \"band_singer\", \"url\"]\n",
    "#songs = [dict(zip(fields, cleaner(row.find_all(\"td\")))) for row in rows]"
   ]
  },
  {
   "cell_type": "code",
   "execution_count": 162,
   "metadata": {
    "collapsed": false
   },
   "outputs": [
    {
     "name": "stdout",
     "output_type": "stream",
     "text": [
      "1753\n"
     ]
    }
   ],
   "source": [
    "print len(linkVec)"
   ]
  },
  {
   "cell_type": "code",
   "execution_count": 163,
   "metadata": {
    "collapsed": false
   },
   "outputs": [],
   "source": [
    "#sort our vector to group similar website roots\n",
    "linkVec = sorted(linkVec[0:20])"
   ]
  },
  {
   "cell_type": "code",
   "execution_count": 164,
   "metadata": {
    "collapsed": false
   },
   "outputs": [],
   "source": [
    "archivedLinkVec = []\n",
    "\n",
    "count = 0;\n",
    "length = len(linkVec)\n",
    "for thisLink in linkVec:\n",
    "    allLinkPage=requests.get(\"https://web.archive.org/web/*/\" + thisLink)\n",
    "    soup = BeautifulSoup(allLinkPage.text, \"html.parser\")\n",
    "    if soup.find_all(\"div\", attrs={\"class\": \"date captures\"}):\n",
    "        row = soup.find_all(\"div\", attrs={\"class\": \"date captures\"})[0]\n",
    "        row = row.find(\"a\").get(\"href\")\n",
    "        archivedLinkVec.append(str(\"https://web.archive.org\" + row))\n",
    "    count = count+1\n",
    "    #print count, \" out of \", length, \" done\""
   ]
  },
  {
   "cell_type": "code",
   "execution_count": 165,
   "metadata": {
    "collapsed": false
   },
   "outputs": [],
   "source": [
    "#archivedLinkVec[0:40]\n",
    "#https://web.archive.org/web/20130114020937/http://www.zap2it.com/news/pictures/zap-the-bachelor-meet-the-season-17-bachelorettes-20120925,0,7638604.photogallery?index=2"
   ]
  },
  {
   "cell_type": "code",
   "execution_count": 166,
   "metadata": {
    "collapsed": false
   },
   "outputs": [],
   "source": [
    "#we can assume that each article from the Examiner website will have similar HTML formatting. \n",
    "#So let us also note the root page.\n",
    "rootPage = []\n",
    "for link in archivedLinkVec:\n",
    "    first = 50#link.find(\"www\") \n",
    "    last = link.find(\".com\")+4\n",
    "    rootPage.append(link[first:last])"
   ]
  },
  {
   "cell_type": "code",
   "execution_count": 167,
   "metadata": {
    "collapsed": false
   },
   "outputs": [],
   "source": [
    "#collect into a data frame\n",
    "linkDF = pd.DataFrame()\n",
    "linkDF['archived_link']=archivedLinkVec\n",
    "linkDF['root_page']= rootPage\n"
   ]
  },
  {
   "cell_type": "code",
   "execution_count": 168,
   "metadata": {
    "collapsed": false
   },
   "outputs": [],
   "source": [
    "myGroups = linkDF.groupby('root_page')"
   ]
  },
  {
   "cell_type": "code",
   "execution_count": 169,
   "metadata": {
    "collapsed": false
   },
   "outputs": [
    {
     "name": "stdout",
     "output_type": "stream",
     "text": [
      "blog.zap2it.com\n",
      "insidetv.ew.com\n",
      "www.digitalspy.com\n",
      "www.eonline.com\n",
      "www.examiner.com\n",
      "www.people.com\n",
      "www.usmagazine.com\n",
      "\n",
      "There are 7 unique groups.\n"
     ]
    }
   ],
   "source": [
    "count=0\n",
    "for group in linkDF.root_page.unique():\n",
    "    if group:\n",
    "        count = count+1\n",
    "        print group\n",
    "print\n",
    "print \"There are\",count, \"unique groups.\"\n",
    "    \n",
    "#this shows that the number of unique websites whose formatting we need to learn is pretty limited."
   ]
  },
  {
   "cell_type": "code",
   "execution_count": 170,
   "metadata": {
    "collapsed": false
   },
   "outputs": [
    {
     "data": {
      "text/plain": [
       "[2, 3]"
      ]
     },
     "execution_count": 170,
     "metadata": {},
     "output_type": "execute_result"
    }
   ],
   "source": [
    "A = [1, 2, 3, 4]\n",
    "A[1:3]"
   ]
  },
  {
   "cell_type": "code",
   "execution_count": 171,
   "metadata": {
    "collapsed": false
   },
   "outputs": [
    {
     "data": {
      "text/plain": [
       "(25, 25)"
      ]
     },
     "execution_count": 171,
     "metadata": {},
     "output_type": "execute_result"
    }
   ],
   "source": [
    "#SEASON 13 BLUE BACKGROUND\n",
    "\n",
    "season13Names =[]\n",
    "season13PicLinks=[]\n",
    "season13Link = \"http://www.buddytv.com/slideshows/meet-the-cast-of-the-bachelor-season-13.aspx\"\n",
    "testPage=requests.get(season13Link)\n",
    "soup = BeautifulSoup(testPage.text, \"html.parser\")\n",
    "scripts = soup.find_all(\"script\")\n",
    "\n",
    "for script in scripts:\n",
    "    if script.string:\n",
    "        if \"Slideshow.SlideshowNavigator\" in str(script.string):\n",
    "            mystring = str(script.string)\n",
    "            myvec = mystring.split(\"{\")\n",
    "            myvec = myvec[7:32]\n",
    "            for k in myvec:\n",
    "                fromhere = str(k).find(\"Title\")+8\n",
    "                tohere = str(k).find(\"Blurb\")-3\n",
    "                season13Names.append(k[fromhere:tohere])\n",
    "                fromhere = str(k).find(\"ImageId\")+9\n",
    "                tohere = str(k).find(\"PhotoCredit\")-2\n",
    "                season13PicLinks.append(\"http://images.buddytv.com/btv_2_%d_1_590_-1_0_/meet-the-cast-of--th.jpg\" % int(k[fromhere:tohere]))\n",
    "                    \n",
    "# for j in range(897,922):\n",
    "#     season13PicLinks.append(\"http://images.buddytv.com/btv_2_500311%d_1_590_-1_0_/meet-the-cast-of--th.jpg\" % j)\n",
    "    \n",
    "len(season13Names), len(season13PicLinks)\n"
   ]
  },
  {
   "cell_type": "code",
   "execution_count": 172,
   "metadata": {
    "collapsed": false
   },
   "outputs": [
    {
     "data": {
      "text/plain": [
       "(26, 26)"
      ]
     },
     "execution_count": 172,
     "metadata": {},
     "output_type": "execute_result"
    }
   ],
   "source": [
    "#### SEASON 14 BLUE BACKGROUND\n",
    "\n",
    "season14Link = \"http://www.realitytea.com/2009/12/17/meet-the-25-bachelorettes-of-the-bachelor-14-on-the-wings-of-love-photos/\"\n",
    "season14PicLinks = []\n",
    "season14Names = []\n",
    "testPage=requests.get(season14Link)\n",
    "soup = BeautifulSoup(testPage.text, \"html.parser\")\n",
    "rows = soup.find_all(\"img\")\n",
    "for row in rows:\n",
    "    if row.get(\"src\"):\n",
    "        if \"the-bachelor-14\" in row.get(\"src\"):\n",
    "            season14PicLinks.append(str(row.get(\"src\")))\n",
    "            myname = str(row.get(\"alt\"))\n",
    "            myname = myname.split(\"14 \")[1]\n",
    "            season14Names.append(myname)\n",
    "            \n",
    "len(season14Names),len(season14PicLinks)\n",
    "#season14Names = [\"Alexa Mcallister\",\"Ali Fedotowsky\",\"Ashleigh Hunt\",\"Ashley Almore\",\"Caitlyn McCabe\",\"Channy Choch\",\"Christina McCasland\",\"Corrie\",\"Elizabeth Kitt\",\"Elizabeth Kreft\",\"Ella Nolan\",\"Emily Harkins\",\"Gia Alliemand\",\"Jessie Sulidis\",\"Kathryn\",\"Kimberly\",\"Kirsten\",\"Michelle Kujawa\",\"Rozlyn Papa\",\"Sheila\",\"Stephanie\",\"Tenley\",\"Tiana\",\"Valishia Savage\",\"Vienna Girardi\"]\n",
    "#len(season14Names),len(season14PicLinks)"
   ]
  },
  {
   "cell_type": "code",
   "execution_count": 173,
   "metadata": {
    "collapsed": false
   },
   "outputs": [
    {
     "data": {
      "text/plain": [
       "(28, 28)"
      ]
     },
     "execution_count": 173,
     "metadata": {},
     "output_type": "execute_result"
    }
   ],
   "source": [
    "#SEASON 15 BLUE BACKGROUND\n",
    "#all on one page --  yay!\n",
    "season15Link = \"http://www.realitytea.com/2010/12/21/photos-meet-the-25-bachelorettes-of-brad-womacks-the-bachelor-15/\"\n",
    "season15PicLinks = []\n",
    "season15Names=[]\n",
    "testPage=requests.get(season15Link)\n",
    "soup = BeautifulSoup(testPage.text, \"html.parser\")\n",
    "rows = soup.find_all(\"img\")\n",
    "for row in rows:\n",
    "    if row.get(\"src\"):\n",
    "        if \"the-bachelor-15\" in row.get(\"src\"):\n",
    "            season15PicLinks.append(str(row.get(\"src\")))\n",
    "            season15Names.append(str(row.get(\"alt\")))\n",
    "            \n",
    "len(season15Names),len(season15PicLinks)"
   ]
  },
  {
   "cell_type": "code",
   "execution_count": 174,
   "metadata": {
    "collapsed": false
   },
   "outputs": [
    {
     "data": {
      "text/plain": [
       "(26, 26)"
      ]
     },
     "execution_count": 174,
     "metadata": {},
     "output_type": "execute_result"
    }
   ],
   "source": [
    "#SEASON 16 BLUE BACKGROUND\n",
    "#all on one page --  yay!\n",
    "season16Link = \"http://www.realitytea.com/2011/12/12/photos-%E2%80%93-meet-the-25-bachelorettes-of-ben-flajnik%E2%80%99s-the-bachelor-season-16/\"\n",
    "season16PicLinks = []\n",
    "season16Names = []\n",
    "testPage=requests.get(season16Link)\n",
    "soup = BeautifulSoup(testPage.text, \"html.parser\")\n",
    "rows = soup.find_all(\"img\")\n",
    "for row in rows:\n",
    "    if row.get(\"data-lazy-src\"):\n",
    "        if \"The_Bachelor_16_\" in row.get(\"data-lazy-src\"):\n",
    "            season16PicLinks.append(str(row.get(\"data-lazy-src\")))\n",
    "            season16Names.append(str(row.get(\"alt\")))\n",
    "len(season16Names),len(season16PicLinks)"
   ]
  },
  {
   "cell_type": "code",
   "execution_count": 175,
   "metadata": {
    "collapsed": false
   },
   "outputs": [
    {
     "data": {
      "text/plain": [
       "(25, 25)"
      ]
     },
     "execution_count": 175,
     "metadata": {},
     "output_type": "execute_result"
    }
   ],
   "source": [
    "#SEASON 17 BLUE BACKGROUND\n",
    "# season17PicLinks=[]\n",
    "# for i in range(2,9):\n",
    "#     season17PicLinks.append(\"https://web.archive.org/web/20151113223542/http://www.trbimg.com/img-50620939/turbine/zap-the-bachelor-meet-the-season-17-bacheloret-00%d/600\" % i)\n",
    "# for j in range(10,29):\n",
    "#     season17PicLinks.append(\"https://web.archive.org/web/20151113223542/http://www.trbimg.com/img-50620939/turbine/zap-the-bachelor-meet-the-season-17-bacheloret-0%d/600\" % j)\n",
    "\n",
    "    \n",
    "# season17Link = \"http://www.realitytea.com/2012/09/28/photos-meet-the-26-bachelorettes-of-sean-lowes-the-bachelor-season-17/\"\n",
    "# season17Names = []\n",
    "\n",
    "season17Link = \"http://www.realitytea.com/2012/09/28/photos-meet-the-26-bachelorettes-of-sean-lowes-the-bachelor-season-17/\"\n",
    "season17PicLinks = []\n",
    "season17Names = []\n",
    "testPage=requests.get(season17Link)\n",
    "soup = BeautifulSoup(testPage.text, \"html.parser\")\n",
    "rows = soup.find_all(\"img\")\n",
    "for row in rows:\n",
    "    if row.get(\"data-lazy-src\"):\n",
    "        if \"-sean-lowe-season\" in row.get(\"data-lazy-src\"):\n",
    "            season17PicLinks.append(str(row.get(\"data-lazy-src\")))\n",
    "            season17Names.append(str(row.get(\"title\")))\n",
    "len(season17Names),len(season17PicLinks)"
   ]
  },
  {
   "cell_type": "code",
   "execution_count": 231,
   "metadata": {
    "collapsed": false
   },
   "outputs": [
    {
     "data": {
      "text/plain": [
       "[u'http://img.wennermedia.com/480-width/1386194126_133462_1805_ful_victoria-zoom.jpg',\n",
       " u'http://img.wennermedia.com/480-width/1386194186_133462_1763_ful_valerie-eredia-zoom.jpg',\n",
       " u'http://img.wennermedia.com/480-width/1386194224_133462_0508_ful_sharleen-560.jpg',\n",
       " u'http://img.wennermedia.com/480-width/1386194268_133462_1578_ful_renee-oteri-zoom.jpg',\n",
       " u'http://img.wennermedia.com/480-width/1386194312_133462_0917_ful_nikki-zoom.jpg',\n",
       " u'http://img.wennermedia.com/480-width/1386194420_133462_1883_ful_maggie-gantt-zoom.jpg',\n",
       " u'http://img.wennermedia.com/480-width/1386194461_133462_0023_ful_lucy-aragon-zoom.jpg',\n",
       " u'http://img.wennermedia.com/480-width/1386194627_133462_1509_ful_lauren-solomon-zoom.jpg',\n",
       " u'http://img.wennermedia.com/480-width/1386194702_133462_0762_ful_lauren-higginson-zoom.jpg',\n",
       " u'http://img.wennermedia.com/480-width/1386194761_133462_1968_ful_lacy-faddoul-zoom.jpg',\n",
       " u'http://img.wennermedia.com/480-width/1386194801_133462_1703_ful_kylie-lewis-zoom.jpg',\n",
       " u'http://img.wennermedia.com/480-width/1386194881_133462_1156_ful_kelly-travis-zoom.jpg',\n",
       " u'http://img.wennermedia.com/480-width/1386194937_133462_0182_ful_katherine-kat-hurd-zoom.jpg',\n",
       " u'http://img.wennermedia.com/480-width/1386194988_133462_1313_ful_elise-mosca-zoom.jpg',\n",
       " u'http://img.wennermedia.com/480-width/1386195039_133462_1440_ful_danielle-ronco-zoom.jpg',\n",
       " u'http://img.wennermedia.com/480-width/1386195099_133462_1643_ful_clare-zoom.jpg',\n",
       " u'http://img.wennermedia.com/480-width/1386195180_133462_0240_ful_christine-christy-zoom.jpg',\n",
       " u'http://img.wennermedia.com/480-width/1386195236_133462_0345_ful_christine-llano-zoom.jpg',\n",
       " u'http://img.wennermedia.com/480-width/1386195270_133462_0699_ful_chelsie-zoom.jpg',\n",
       " u'http://img.wennermedia.com/480-width/1386195363_133462_1916_ful_chantel-forrest-zoom.jpg',\n",
       " u'http://img.wennermedia.com/480-width/1386195411_133462_0843_ful_cassandra-zoom.jpg',\n",
       " u'http://img.wennermedia.com/480-width/1386195459_133462_1209_ful_ashley-poe-zoom.jpg',\n",
       " u'http://img.wennermedia.com/480-width/1386195495_133462_2020_ful_andi-dorfman-zoom.jpg',\n",
       " u'http://img.wennermedia.com/480-width/1386195552_133462_0598_ful_amy-long-zoom.jpg',\n",
       " u'http://img.wennermedia.com/480-width/1386195591_133462_0431_ful_amy-jokinen-zoom.jpg',\n",
       " u'http://img.wennermedia.com/480-width/1386195641_133462_1358_ful_allison-alli-restko-zoom.jpg',\n",
       " u'http://img.wennermedia.com/480-width/1386195679_133462_1019_ful_alexis-morgado-zoom.jpg']"
      ]
     },
     "execution_count": 231,
     "metadata": {},
     "output_type": "execute_result"
    }
   ],
   "source": [
    "#SEASON 18 BLUE BACKGROUND\n",
    "season18Links=[\"http://www.usmagazine.com/entertainment/pictures/the-bachelor-season-18-meet-juan-pablos-bachelorettes-2013412/343%d\" % k for k in range(71,98)]\n",
    "season18PicLinks = []\n",
    "season18Names = []\n",
    "for link in season18Links:\n",
    "    testPage=requests.get(link)\n",
    "    soup = BeautifulSoup(testPage.text, \"html.parser\")\n",
    "    rows = soup.find_all(\"figure\")\n",
    "    for row in rows:\n",
    "        if row.get(\"data-slug\"):\n",
    "            if \"18-meet-juan-pablos\" in row.get(\"data-slug\"):\n",
    "                thisimg = row.find_all(\"img\")[0]\n",
    "                thisimg = thisimg.get(\"src\")\n",
    "                season18PicLinks.append(\"http:\" + thisimg)\n",
    "                season18Names.append(str(row.get(\"data-title\")))\n",
    "len(season18Names),len(season18PicLinks)\n",
    "season18PicLinks"
   ]
  },
  {
   "cell_type": "code",
   "execution_count": 232,
   "metadata": {
    "collapsed": false
   },
   "outputs": [
    {
     "data": {
      "text/plain": [
       "(30, 30)"
      ]
     },
     "execution_count": 232,
     "metadata": {},
     "output_type": "execute_result"
    }
   ],
   "source": [
    "#SEASON 19 BLUE BACKGROUND\n",
    "season19Links = \"http://www.accesshollywood.com/galleries/meet-bachelor-chris-soules-30-farm-girls-in-training-4692\"\n",
    "season19PicLinks = []\n",
    "season19Names =[]\n",
    "testPage=requests.get(season19Links)\n",
    "soup = BeautifulSoup(testPage.text, \"html.parser\")\n",
    "rows = soup.find_all(\"img\")\n",
    "for row in rows:\n",
    "    if row.get(\"alt\"):\n",
    "        if \"starring Chris Soules\" in row.get(\"alt\"):\n",
    "            season19PicLinks.append(str(row.get(\"src\")))\n",
    "            b = row.get(\"alt\")\n",
    "            season19Names.append(b.split()[0])\n",
    "len(season19Names),len(season19PicLinks)"
   ]
  },
  {
   "cell_type": "code",
   "execution_count": 233,
   "metadata": {
    "collapsed": false
   },
   "outputs": [
    {
     "data": {
      "text/plain": [
       "(187, 187)"
      ]
     },
     "execution_count": 233,
     "metadata": {},
     "output_type": "execute_result"
    }
   ],
   "source": [
    "#AGGREGATE PICS AND NAMES\n",
    "allPicLinks = np.concatenate([season13PicLinks,season14PicLinks,season15PicLinks,season16PicLinks,season17PicLinks,season18PicLinks,season19PicLinks])\n",
    "allNames = np.concatenate([season13Names,season14Names,season15Names,season16Names,season17Names,season18Names,season19Names])\n",
    "\n",
    "len(allPicLinks),len(allNames)\n",
    "#might also be helpful: http://www.buddytv.com/tvshow/page/the-bachelor-cast-1.aspx"
   ]
  },
  {
   "cell_type": "markdown",
   "metadata": {},
   "source": [
    "#2. Save links to local machine & Turn into NumPy Arrays"
   ]
  },
  {
   "cell_type": "code",
   "execution_count": 234,
   "metadata": {
    "collapsed": true
   },
   "outputs": [],
   "source": [
    "import PIL\n",
    "from PIL import Image"
   ]
  },
  {
   "cell_type": "markdown",
   "metadata": {},
   "source": [
    "Uncomment this block if running for the first time."
   ]
  },
  {
   "cell_type": "code",
   "execution_count": 220,
   "metadata": {
    "collapsed": false
   },
   "outputs": [
    {
     "name": "stdout",
     "output_type": "stream",
     "text": [
      "1\n",
      "2\n",
      "3\n",
      "4\n",
      "5\n",
      "6\n",
      "7\n",
      "8\n",
      "9\n",
      "10\n",
      "11\n",
      "12\n",
      "13\n",
      "14\n",
      "15\n",
      "16\n",
      "17\n",
      "18\n",
      "19\n",
      "20\n",
      "21\n",
      "22\n",
      "23\n",
      "24\n",
      "25\n",
      "26\n",
      "27\n",
      "28\n",
      "29\n",
      "30\n",
      "31\n",
      "32\n",
      "33\n",
      "34\n",
      "35\n",
      "36\n",
      "37\n",
      "38\n",
      "39\n",
      "40\n",
      "41\n",
      "42\n",
      "43\n",
      "44\n",
      "45\n",
      "46\n",
      "47\n",
      "48\n",
      "49\n",
      "50\n",
      "51\n",
      "52\n",
      "53\n",
      "54\n",
      "55\n",
      "56\n",
      "57\n",
      "58\n",
      "59\n",
      "60\n",
      "61\n",
      "62\n",
      "63\n",
      "64\n",
      "65\n",
      "66\n",
      "67\n",
      "68\n",
      "69\n",
      "70\n",
      "71\n",
      "72\n",
      "73\n",
      "74\n",
      "75\n",
      "76\n",
      "77\n",
      "78\n",
      "79\n",
      "80\n",
      "81\n",
      "82\n",
      "83\n",
      "84\n",
      "85\n",
      "86\n",
      "87\n",
      "88\n",
      "89\n",
      "90\n",
      "91\n",
      "92\n",
      "93\n",
      "94\n",
      "95\n",
      "96\n",
      "97\n",
      "98\n",
      "99\n",
      "100\n",
      "101\n",
      "102\n",
      "103\n",
      "104\n",
      "105\n",
      "106\n",
      "107\n",
      "108\n",
      "109\n",
      "110\n",
      "111\n",
      "112\n",
      "113\n",
      "114\n",
      "115\n",
      "116\n",
      "117\n",
      "118\n",
      "119\n",
      "120\n",
      "121\n",
      "122\n",
      "123\n",
      "124\n",
      "125\n",
      "126\n",
      "127\n",
      "128\n",
      "129\n",
      "130\n",
      "131\n",
      "132\n",
      "133\n",
      "134\n",
      "135\n",
      "136\n",
      "137\n",
      "138\n",
      "139\n",
      "140\n",
      "141\n",
      "142\n",
      "143\n",
      "144\n",
      "145\n",
      "146\n",
      "147\n",
      "148\n",
      "149\n",
      "150\n",
      "151\n",
      "152\n",
      "153\n",
      "154\n",
      "155\n",
      "156\n",
      "157\n",
      "158\n",
      "159\n",
      "160\n",
      "161\n",
      "162\n",
      "163\n",
      "164\n",
      "165\n",
      "166\n",
      "167\n",
      "168\n",
      "169\n",
      "170\n",
      "171\n",
      "172\n",
      "173\n",
      "174\n",
      "175\n",
      "176\n",
      "177\n",
      "178\n",
      "179\n",
      "180\n",
      "181\n",
      "182\n",
      "183\n",
      "184\n",
      "185\n",
      "186\n",
      "187\n"
     ]
    }
   ],
   "source": [
    "## SAVE ALL PICS TO LOCAL MACHINE\n",
    "## only really need to do this once\n",
    "## make sure you're in the right folder on your local machine\n",
    "\n",
    "import urllib\n",
    "count = 0\n",
    "for link in allPicLinks:\n",
    "    urllib.urlretrieve(link, \"bachelorette_pics/bachelorette%d.jpg\" % count)\n",
    "    count = count+1"
   ]
  },
  {
   "cell_type": "code",
   "execution_count": 235,
   "metadata": {
    "collapsed": false
   },
   "outputs": [
    {
     "name": "stdout",
     "output_type": "stream",
     "text": [
      "187\n"
     ]
    }
   ],
   "source": [
    "picsAsMatrices = []\n",
    "badImages = [5,11,20,25,105]\n",
    "old_allNames = allNames\n",
    "print len(old_allNames)\n",
    "allNames = []\n",
    "viableIndices = np.concatenate([range(0,5),range(6,11),range(12,20),range(21,25),range(26,105),range(106,187)])\n",
    "for count in viableIndices:\n",
    "    picsAsMatrices.append(sp.misc.imread(\"bachelorette_pics/bachelorette%d.jpg\" % count))\n",
    "    allNames.append(old_allNames[count])"
   ]
  },
  {
   "cell_type": "markdown",
   "metadata": {},
   "source": [
    "I don't think this next block is necessary."
   ]
  },
  {
   "cell_type": "code",
   "execution_count": 236,
   "metadata": {
    "collapsed": false
   },
   "outputs": [],
   "source": [
    "#picsAsBinaryMatrices = []\n",
    "#for count in viableIndices:\n",
    "#    img = Image.open(\"bachelorette_pics/bachelorette%d.jpg\" % count).convert('LA')\n",
    "#    #img.save(\"greyscale_pics/greyscale%d.png\" % count)\n",
    "#    picsAsBinaryMatrices.append(img)"
   ]
  },
  {
   "cell_type": "code",
   "execution_count": 237,
   "metadata": {
    "collapsed": false
   },
   "outputs": [],
   "source": [
    "picsAsBinaryMatrices = []\n",
    "#turn pics into B&W, then into (binary) numpy arrays\n",
    "for count in viableIndices:\n",
    "    img0 = Image.open(\"bachelorette_pics/bachelorette%d.jpg\" % count).convert('LA')\n",
    "    img0.save(\"greyscale_pics/greyscale%d.png\" % count)\n",
    "    img1 = np.array(img0.getdata())\n",
    "    img2 = (img1[:,1]-img1[:,0]).reshape(img0.size[1], img0.size[0])\n",
    "    picsAsBinaryMatrices.append(img2)"
   ]
  },
  {
   "cell_type": "markdown",
   "metadata": {},
   "source": [
    "Test code"
   ]
  },
  {
   "cell_type": "code",
   "execution_count": 197,
   "metadata": {
    "collapsed": false
   },
   "outputs": [],
   "source": [
    "#plt.imshow(picsAsBinaryMatrices[156]);\n",
    "#im1 = picsAsBinaryMatrices[15]\n",
    "#im2 = picsAsBinaryMatrices[16]\n",
    "#mat1 = np.array(im1.getdata())#.reshape(im1.size[0], im1.size[1], 2)\n",
    "#mat11= (mat1[:,1]-mat1[:,0]).reshape(im1.size[1], im1.size[0])\n",
    "#plt.imshow(mat11)\n",
    "\n",
    "#heights,widths=[],[]\n",
    "#for pic in picsAsBinaryMatrices:\n",
    "#    heights.append(pic.size[0])\n",
    "#    widths.append(pic.size[1])"
   ]
  },
  {
   "cell_type": "markdown",
   "metadata": {},
   "source": [
    "Test code. I tried to use PIL but couldn't get eigenvalues, eigenvectors, etc. with it so I made my own."
   ]
  },
  {
   "cell_type": "code",
   "execution_count": 198,
   "metadata": {
    "collapsed": false
   },
   "outputs": [],
   "source": [
    "#cropHeight = min(heights)\n",
    "#cropWidth = min(widths)\n",
    "#cropParams = [0,0,cropHeight,cropWidth]\n",
    "\n",
    "#im1 = im1.crop(cropParams)\n",
    "#im2 = im2.crop(cropParams)\n",
    "#Image.blend(im1,im2,alpha=0.5)\n",
    "\n",
    "#newIm = picsAsBinaryMatrices[0]\n",
    "#newIm = newIm.crop(cropParams)\n",
    "#for pic in picsAsBinaryMatrices:\n",
    "#    tempPic = pic.crop(cropParams)\n",
    "#    newIm = Image.blend(newIm,tempPic,alpha=0.25)\n",
    "\n",
    "##test\n",
    "#newIm = np.add(picsAsBinaryMatrices[0],picsAsBinaryMatrices[1])\n",
    "#newIm = np.add(newIm,picsAsBinaryMatrices[4])\n",
    "#plt.imshow(newIm)"
   ]
  },
  {
   "cell_type": "markdown",
   "metadata": {},
   "source": [
    "#3. Registration"
   ]
  },
  {
   "cell_type": "code",
   "execution_count": 242,
   "metadata": {
    "collapsed": false
   },
   "outputs": [],
   "source": [
    "#REGISTRATION, using cross-correlation. \n",
    "from scipy import signal\n",
    "from scipy import misc"
   ]
  },
  {
   "cell_type": "markdown",
   "metadata": {},
   "source": [
    "Test code"
   ]
  },
  {
   "cell_type": "code",
   "execution_count": 243,
   "metadata": {
    "collapsed": true
   },
   "outputs": [],
   "source": [
    "#decRate = 20\n",
    "#sig0 = [[0,0,0],[0,1,0],[0,0,0]]\n",
    "#sig1 = picsAsBinaryMatrices[0][85:135,125:175]\n",
    "#sig2 = picsAsBinaryMatrices[1][80:130,100:150]\n",
    "#decSig1 = sp.misc.imresize(sig1, decRate, interp='nearest', mode=None)\n",
    "#decSig2 = sp.misc.imresize(sig2, decRate, interp='nearest', mode=None)\n",
    "#xcorr = sp.signal.correlate2d(sig0,sig0, mode='full', boundary='symm')\n",
    "\n",
    "#print xcorr\n",
    "#print\n",
    "#print xcorr.shape\n",
    "#plt.imshow(xcorr);\n",
    "\n",
    "#plt.imshow(decSig1)\n",
    "\n",
    "#subset4= picsAsBinaryMatrices[testnum][50:(50+framesize),50:(50+framesize)]\n",
    "#subset5= picsAsBinaryMatrices[refnum][50:(50+framesize),50:(50+framesize)]\n",
    "#xcorr = sp.signal.correlate2d(picsAsBinaryMatrices[refnum],subset4, mode='same', boundary='symm')\n",
    "#print (picsAsBinaryMatrices[refnum]).shape\n",
    "\n",
    "#decimated = sp.misc.imresize(picsAsBinaryMatrices[0], 10, interp='bilinear', mode=None)\n",
    "#plt.imshow(decimated)"
   ]
  },
  {
   "cell_type": "code",
   "execution_count": 244,
   "metadata": {
    "collapsed": false
   },
   "outputs": [],
   "source": [
    "refnum = 6\n",
    "testnum = 17\n",
    "framesize = 150"
   ]
  },
  {
   "cell_type": "code",
   "execution_count": 245,
   "metadata": {
    "collapsed": true
   },
   "outputs": [],
   "source": [
    "#mirror image borders\n",
    "def mirror_image(im):\n",
    "    im2 = np.concatenate((im[:,::-1],im),axis=1)\n",
    "    im2 = np.concatenate((im2,im[:,::-1]),axis=1)\n",
    "    mirrim = np.concatenate((im2,im2[::-1,:]),axis=0)\n",
    "    mirrim = np.concatenate((im2[::-1,:],mirrim),axis=0)\n",
    "    return mirrim"
   ]
  },
  {
   "cell_type": "code",
   "execution_count": 249,
   "metadata": {
    "collapsed": false
   },
   "outputs": [],
   "source": [
    "#find index of max cross-correlation\n",
    "#from http://stackoverflow.com/questions/21989513/finding-index-of-maximum-value-in-array-with-numpy\n",
    "def nanargmax(a):\n",
    "    idx = np.argmax(a, axis=None)\n",
    "    multi_idx = np.unravel_index(idx, a.shape)\n",
    "    if np.isnan(a[multi_idx]):\n",
    "        nan_count = np.sum(np.isnan(a))\n",
    "        # In numpy < 1.8 use idx = np.argsort(a, axis=None)[-nan_count-1]\n",
    "        idx = np.argpartition(a, -nan_count-1, axis=None)[-nan_count-1]\n",
    "        multi_idx = np.unravel_index(idx, a.shape)\n",
    "    return multi_idx"
   ]
  },
  {
   "cell_type": "code",
   "execution_count": 250,
   "metadata": {
    "collapsed": true
   },
   "outputs": [],
   "source": [
    "def crop_pic(im,optpx): #image to align, optimal translation coordinates w.r.t. to some defined reference image\n",
    "    \n",
    "    fsz=0#110 #107 worked with ref 6 and num 4    \n",
    "    #standard image size: (400, 267)\n",
    "    px = optpx[1]-fsz\n",
    "    py = optpx[0]-fsz\n",
    "    x_std = im.shape[1]\n",
    "    y_std = im.shape[0]\n",
    "    print x_std+px,x_std*2+px\n",
    "    print y_std+py,y_std*2+py\n",
    "    aligned = mirror_image(im)[(y_std-py):(y_std*2-py),(x_std-px):(x_std*2-px)] #y, then x. it's weird I know but yes.\n",
    "    #crops image to original size about that good part. uses image mirroring.\n",
    "    \n",
    "    return aligned"
   ]
  },
  {
   "cell_type": "markdown",
   "metadata": {
    "collapsed": false
   },
   "source": [
    "Analysis goal: find eigenvalues & eigenvectors and then do PCA or something."
   ]
  },
  {
   "cell_type": "code",
   "execution_count": 251,
   "metadata": {
    "collapsed": false
   },
   "outputs": [],
   "source": [
    "def crop_to_min_size(im,minsz=(400,267)):\n",
    "    \n",
    "    oldszx,oldszy = im.shape\n",
    "    newszx,newszy = minsz\n",
    "\n",
    "    newx0,newy0 = 0,0\n",
    "    newxf,newyf = minsz   \n",
    "    if oldszx > newszx:\n",
    "        newx0 = 0\n",
    "        newxf = newx0 + newszx\n",
    "    if oldszy > newszy:\n",
    "        newy0 = (oldszy-newszy)/2\n",
    "        newyf = newy0 + newszy    \n",
    "    cropped = im[newx0:newxf,newy0:newyf]\n",
    "    \n",
    "    return cropped"
   ]
  },
  {
   "cell_type": "code",
   "execution_count": 254,
   "metadata": {
    "collapsed": true
   },
   "outputs": [],
   "source": [
    "def crop_pic(im,optpx,fc): #image to align, optimal translation coordinates w.r.t. to some defined reference image\n",
    "    \n",
    "    px = optpx[1]-fc[1]\n",
    "    py = optpx[0]-fc[0]\n",
    "    x_std = im.shape[1]\n",
    "    y_std = im.shape[0]\n",
    "    aligned = mirror_image(im)[(y_std-py):(y_std*2-py),(x_std+px):(x_std*2+px)] #y, then x. it's weird I know but yes.\n",
    "    #crops image to original size about that good part. uses image mirroring.\n",
    "    \n",
    "    return aligned"
   ]
  },
  {
   "cell_type": "code",
   "execution_count": 255,
   "metadata": {
    "collapsed": false
   },
   "outputs": [],
   "source": [
    "def align_to_ref(imn,refn,fsz): #image number, ref number.\n",
    "\n",
    "    myim = crop_to_min_size(picsAsBinaryMatrices[imn]) #make smallest size so can add all\n",
    "    refim = picsAsBinaryMatrices[refn]\n",
    "    \n",
    "    fs = framesize; #frame size\n",
    "    fc = fs/2,np.rint((myim.shape[1])/2) #frame center\n",
    "    select_face = (fc[0]-fs/2),(fc[0]+fs/2),(fc[1]-fs/2),(fc[1]+fs/2)\n",
    "    subset= myim[select_face[0]:select_face[1],select_face[2]:select_face[3]]\n",
    "    xcorr = sp.signal.correlate2d(refim,subset, mode='same', boundary='symm') #takes time\n",
    "    minx,miny = xcorr.shape\n",
    "    \n",
    "    optpix = nanargmax(xcorr[0:miny/2][0:minx/2]) #best way to translate the picture for alignment\n",
    "    aligned_image = crop_pic(myim,optpix,fc)\n",
    "    \n",
    "    return aligned_image"
   ]
  },
  {
   "cell_type": "markdown",
   "metadata": {},
   "source": [
    "##All the single ladies (All the single ladies)"
   ]
  },
  {
   "cell_type": "markdown",
   "metadata": {},
   "source": [
    "Test code"
   ]
  },
  {
   "cell_type": "code",
   "execution_count": 256,
   "metadata": {
    "collapsed": false,
    "scrolled": true
   },
   "outputs": [],
   "source": [
    "##you can see, by running this block, that we're actually doing something with the cross-correlation\n",
    "##not all of the work was done heuristically in align_to_ref. nice.\n",
    "\n",
    "#aligned = []\n",
    "#for i in range(146,149):\n",
    "#    aligned.append(align_to_ref(i,6,framesize))\n",
    "#\n",
    "#fig = plt.figure(figsize=(15,30))\n",
    "#for a,j,i in zip(aligned,range(1,18),range(146,149)):\n",
    "#    s=fig.add_subplot(5,4,j)\n",
    "#    s.imshow(a+crop_to_min_size(picsAsBinaryMatrices[i]))"
   ]
  },
  {
   "cell_type": "code",
   "execution_count": 257,
   "metadata": {
    "collapsed": false
   },
   "outputs": [],
   "source": [
    "#meanpic = np.mean([crop_to_min_size(a) for a in aligned], axis = 0)\n",
    "#plt.imshow(meanpic)"
   ]
  },
  {
   "cell_type": "markdown",
   "metadata": {},
   "source": [
    "#5. Align and save images to local machine"
   ]
  },
  {
   "cell_type": "markdown",
   "metadata": {},
   "source": [
    "This took my computer about 29 minutes."
   ]
  },
  {
   "cell_type": "code",
   "execution_count": null,
   "metadata": {
    "collapsed": true
   },
   "outputs": [],
   "source": [
    "# framesize = 200\n",
    "\n",
    "# import time\n",
    "\n",
    "# start = time.time()\n",
    "\n",
    "# alignedSet = []\n",
    "# for thisPic in range(0,len(picsAsBinaryMatrices)):\n",
    "#     #using image 6 as a reference because she is pretty centered in the frame\n",
    "#     alignedSet.append(align_to_ref(thisPic,6,framesize))\n",
    "#     print \"Aligning image \", thisPic+1, \" out of \", len(picsAsBinaryMatrices)\n",
    "    \n",
    "# end = time.time()\n",
    "# print end - start"
   ]
  },
  {
   "cell_type": "code",
   "execution_count": 259,
   "metadata": {
    "collapsed": false
   },
   "outputs": [],
   "source": [
    "# for thisPic,count in zip(alignedSet,viableIndices):\n",
    "#     np.save(\"aligned_pics/aligned%d\" % count,thisPic) #saved as numpy arrays"
   ]
  },
  {
   "cell_type": "markdown",
   "metadata": {},
   "source": [
    "Remove that one, too-small group shot."
   ]
  },
  {
   "cell_type": "code",
   "execution_count": 263,
   "metadata": {
    "collapsed": false
   },
   "outputs": [],
   "source": [
    "#find the groupshot\n",
    "for thisPic,count in zip(alignedSet,range(0,len(alignedSet))):\n",
    "    if thisPic.shape[0]<400:\n",
    "        #delete that groupshot\n",
    "        alignedSet = np.delete(alignedSet,count)       \n",
    "        viableIndices = np.delete(viableIndices,count)\n",
    "        allNames = np.delete(allNames,count)"
   ]
  },
  {
   "cell_type": "markdown",
   "metadata": {},
   "source": [
    "#Analysis"
   ]
  },
  {
   "cell_type": "markdown",
   "metadata": {},
   "source": [
    "This is the average of all the faces. Not too descriptive, since we have so many images and our alignment wasn't perfect."
   ]
  },
  {
   "cell_type": "code",
   "execution_count": 283,
   "metadata": {
    "collapsed": false
   },
   "outputs": [
    {
     "data": {
      "image/png": "[encoded data removed]",
      "text/plain": [
       "<matplotlib.figure.Figure at 0x10ef663d0>"
      ]
     },
     "metadata": {},
     "output_type": "display_data"
    }
   ],
   "source": [
    "alignedMean = np.mean(alignedSet,axis=0);\n",
    "plt.imshow(alignedMean);"
   ]
  },
  {
   "cell_type": "code",
   "execution_count": 282,
   "metadata": {
    "collapsed": false
   },
   "outputs": [
    {
     "data": {
      "text/plain": [
       "array([  0,   1,   2,   3,   4,   6,   7,   8,   9,  10,  12,  13,  14,\n",
       "        15,  16,  17,  18,  19,  21,  22,  23,  24,  26,  27,  28,  29,\n",
       "        30,  31,  32,  33,  34,  35,  36,  37,  38,  39,  40,  41,  42,\n",
       "        43,  44,  45,  46,  47,  48,  49,  50,  51,  52,  53,  54,  55,\n",
       "        56,  57,  58,  59,  60,  61,  62,  63,  64,  65,  66,  67,  68,\n",
       "        69,  70,  71,  72,  73,  74,  75,  76,  77,  78,  79,  80,  81,\n",
       "        82,  83,  84,  85,  86,  87,  88,  89,  90,  91,  92,  93,  94,\n",
       "        95,  96,  97,  98,  99, 100, 101, 102, 103, 104, 106, 107, 108,\n",
       "       109, 110, 111, 112, 113, 114, 115, 116, 117, 118, 119, 120, 121,\n",
       "       122, 123, 124, 125, 126, 127, 128, 129, 130, 131, 132, 133, 134,\n",
       "       135, 136, 137, 138, 139, 140, 141, 142, 143, 144, 145, 146, 147,\n",
       "       148, 149, 150, 151, 152, 153, 154, 155, 156, 157, 158, 159, 160,\n",
       "       161, 162, 163, 164, 165, 166, 167, 168, 169, 170, 171, 172, 173,\n",
       "       174, 175, 176, 177, 178, 179, 180, 181, 182, 183, 184, 185, 186])"
      ]
     },
     "execution_count": 282,
     "metadata": {},
     "output_type": "execute_result"
    }
   ],
   "source": [
    "viableIndices"
   ]
  },
  {
   "cell_type": "code",
   "execution_count": 296,
   "metadata": {
    "collapsed": false
   },
   "outputs": [
    {
     "data": {
      "text/plain": [
       "array([[ 73,  72,  70, ...,  94,  92,  91],\n",
       "       [ 71,  71,  70, ...,  93,  92,  91],\n",
       "       [ 69,  70,  71, ...,  92,  91,  91],\n",
       "       ..., \n",
       "       [ 81,  82,  84, ..., 122, 120, 120],\n",
       "       [ 80,  80,  82, ..., 139, 129, 124],\n",
       "       [ 78,  79,  81, ..., 156, 142, 131]])"
      ]
     },
     "execution_count": 296,
     "metadata": {},
     "output_type": "execute_result"
    }
   ],
   "source": [
    "alignedSet[0]"
   ]
  },
  {
   "cell_type": "code",
   "execution_count": 308,
   "metadata": {
    "collapsed": false
   },
   "outputs": [
    {
     "data": {
      "text/plain": [
       "array([1, 2, 3, 7, 8, 9, 4, 5, 6])"
      ]
     },
     "execution_count": 308,
     "metadata": {},
     "output_type": "execute_result"
    }
   ],
   "source": [
    "A=[1,2,3]\n",
    "C=[4,5,6]\n",
    "B=[7,8,9]\n",
    "np.concatenate([A,B,C],axis=0)"
   ]
  },
  {
   "cell_type": "code",
   "execution_count": 314,
   "metadata": {
    "collapsed": false
   },
   "outputs": [],
   "source": [
    "dims = alignedSet[0].shape\n",
    "vecLen = dims[0]*dims[1]\n",
    "matsAsVects=[]\n",
    "\n",
    "for im in alignedSet:\n",
    "    matsAsVects.append(np.reshape(im,vecLen))\n",
    "    \n",
    "#now matsAsVects is a vector of 182 of these 106800-vectors."
   ]
  },
  {
   "cell_type": "code",
   "execution_count": 319,
   "metadata": {
    "collapsed": false
   },
   "outputs": [
    {
     "data": {
      "text/plain": [
       "(106800,)"
      ]
     },
     "execution_count": 319,
     "metadata": {},
     "output_type": "execute_result"
    }
   ],
   "source": [
    "sum(matsAsVects).shape"
   ]
  },
  {
   "cell_type": "code",
   "execution_count": null,
   "metadata": {
    "collapsed": true
   },
   "outputs": [],
   "source": []
  }
 ],
 "metadata": {
  "kernelspec": {
   "display_name": "Python 2",
   "language": "python",
   "name": "python2"
  },
  "language_info": {
   "codemirror_mode": {
    "name": "ipython",
    "version": 2
   },
   "file_extension": ".py",
   "mimetype": "text/x-python",
   "name": "python",
   "nbconvert_exporter": "python",
   "pygments_lexer": "ipython2",
   "version": "2.7.10"
  }
 },
 "nbformat": 4,
 "nbformat_minor": 0
}
