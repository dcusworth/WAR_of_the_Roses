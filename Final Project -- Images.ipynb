{
 "cells": [
  {
   "cell_type": "markdown",
   "metadata": {},
   "source": [
    "#1. Scrape Data"
   ]
  },
  {
   "cell_type": "code",
   "execution_count": 174,
   "metadata": {
    "collapsed": true
   },
   "outputs": [],
   "source": [
    "%matplotlib inline\n",
    "import numpy as np\n",
    "import scipy as sp\n",
    "import matplotlib as mpl\n",
    "import matplotlib.cm as cm\n",
    "import matplotlib.pyplot as plt\n",
    "import pandas as pd\n",
    "import time\n",
    "pd.set_option('display.width', 500)\n",
    "pd.set_option('display.max_columns', 100)\n",
    "pd.set_option('display.notebook_repr_html', True)\n",
    "import seaborn as sns\n",
    "sns.set_style(\"whitegrid\")\n",
    "sns.set_context(\"poster\")\n",
    "\n",
    "from pyquery import PyQuery as pq\n",
    "from bs4 import BeautifulSoup\n",
    "import requests"
   ]
  },
  {
   "cell_type": "code",
   "execution_count": 175,
   "metadata": {
    "collapsed": false,
    "scrolled": false
   },
   "outputs": [],
   "source": [
    "\n",
    "linkVec = []\n",
    "\n",
    "for thisPage in [3]:#[2,3,4,5]:\n",
    "    allLinkPage=requests.get(\"http://www.sirlinksalot.net/archives/thebachelor%d.html\" % (thisPage))\n",
    "    soup = BeautifulSoup(allLinkPage.text, \"html.parser\")\n",
    "    rows = soup.find_all(\"a\")\n",
    "    for row in rows:\n",
    "        rowString = str(row)\n",
    "        checkASCII = [ord(letter) for letter in rowString]\n",
    "        #print max(checkASCII),min(checkASCII)\n",
    "        if max(checkASCII)<127 and min(checkASCII)>9:\n",
    "        #    print max(checkASCII)<127 and min(checkASCII)>10\n",
    "            thisLink = str(row.get(\"href\"))\n",
    "            if \"sirlinksalot\" not in thisLink: #remove internal links\n",
    "                if \"clickbank.net\" not in thisLink: #remove ad links\n",
    "                    if \"pub43\" not in thisLink: #remove ad links\n",
    "                        if \"bilbo\" not in thisLink: #remove ad links\n",
    "                            if \"fastclick\" not in thisLink: #remove ad links\n",
    "                                if \"casalemedia\" not in thisLink: #remove ad links\n",
    "                                    linkVec.append(thisLink)\n",
    "                                \n",
    "\n",
    "\n",
    "#cleaner = lambda r: [int(r[0].get_text()), r[1].get_text(), r[2].get_text(), r[2].find(\"a\").get(\"href\")]\n",
    "#fields = [\"ranking\", \"title\", \"band_singer\", \"url\"]\n",
    "#songs = [dict(zip(fields, cleaner(row.find_all(\"td\")))) for row in rows]"
   ]
  },
  {
   "cell_type": "code",
   "execution_count": 176,
   "metadata": {
    "collapsed": false
   },
   "outputs": [
    {
     "name": "stdout",
     "output_type": "stream",
     "text": [
      "1753\n"
     ]
    }
   ],
   "source": [
    "print len(linkVec)"
   ]
  },
  {
   "cell_type": "code",
   "execution_count": 177,
   "metadata": {
    "collapsed": false
   },
   "outputs": [],
   "source": [
    "#sort our vector to group similar website roots\n",
    "linkVec = sorted(linkVec[0:20])"
   ]
  },
  {
   "cell_type": "code",
   "execution_count": 178,
   "metadata": {
    "collapsed": false
   },
   "outputs": [],
   "source": [
    "archivedLinkVec = []\n",
    "\n",
    "count = 0;\n",
    "length = len(linkVec)\n",
    "for thisLink in linkVec:\n",
    "    allLinkPage=requests.get(\"https://web.archive.org/web/*/\" + thisLink)\n",
    "    soup = BeautifulSoup(allLinkPage.text, \"html.parser\")\n",
    "    if soup.find_all(\"div\", attrs={\"class\": \"date captures\"}):\n",
    "        row = soup.find_all(\"div\", attrs={\"class\": \"date captures\"})[0]\n",
    "        row = row.find(\"a\").get(\"href\")\n",
    "        archivedLinkVec.append(str(\"https://web.archive.org\" + row))\n",
    "    count = count+1\n",
    "    #print count, \" out of \", length, \" done\""
   ]
  },
  {
   "cell_type": "code",
   "execution_count": 179,
   "metadata": {
    "collapsed": false
   },
   "outputs": [],
   "source": [
    "#archivedLinkVec[0:40]\n",
    "#https://web.archive.org/web/20130114020937/http://www.zap2it.com/news/pictures/zap-the-bachelor-meet-the-season-17-bachelorettes-20120925,0,7638604.photogallery?index=2"
   ]
  },
  {
   "cell_type": "code",
   "execution_count": 180,
   "metadata": {
    "collapsed": false
   },
   "outputs": [],
   "source": [
    "#we can assume that each article from the Examiner website will have similar HTML formatting. \n",
    "#So let us also note the root page.\n",
    "rootPage = []\n",
    "for link in archivedLinkVec:\n",
    "    first = 50#link.find(\"www\") \n",
    "    last = link.find(\".com\")+4\n",
    "    rootPage.append(link[first:last])"
   ]
  },
  {
   "cell_type": "code",
   "execution_count": 181,
   "metadata": {
    "collapsed": false
   },
   "outputs": [],
   "source": [
    "#collect into a data frame\n",
    "linkDF = pd.DataFrame()\n",
    "linkDF['archived_link']=archivedLinkVec\n",
    "linkDF['root_page']= rootPage\n"
   ]
  },
  {
   "cell_type": "code",
   "execution_count": 182,
   "metadata": {
    "collapsed": false
   },
   "outputs": [],
   "source": [
    "myGroups = linkDF.groupby('root_page')"
   ]
  },
  {
   "cell_type": "code",
   "execution_count": 183,
   "metadata": {
    "collapsed": false
   },
   "outputs": [
    {
     "name": "stdout",
     "output_type": "stream",
     "text": [
      "blog.zap2it.com\n",
      "insidetv.ew.com\n",
      "www.digitalspy.com\n",
      "www.eonline.com\n",
      "www.examiner.com\n",
      "www.people.com\n",
      "www.usmagazine.com\n",
      "\n",
      "There are 7 unique groups.\n"
     ]
    }
   ],
   "source": [
    "count=0\n",
    "for group in linkDF.root_page.unique():\n",
    "    if group:\n",
    "        count = count+1\n",
    "        print group\n",
    "print\n",
    "print \"There are\",count, \"unique groups.\"\n",
    "    \n",
    "#this shows that the number of unique websites whose formatting we need to learn is pretty limited."
   ]
  },
  {
   "cell_type": "code",
   "execution_count": 184,
   "metadata": {
    "collapsed": true
   },
   "outputs": [],
   "source": [
    "#SEASON 13 BLUE BACKGROUND\n",
    "season13PicLinks=[]\n",
    "\n",
    "for j in range(897,922):\n",
    "    season13PicLinks.append(\"http://images.buddytv.com/btv_2_500311%d_1_590_-1_0_/meet-the-cast-of--th.jpg\" % j)"
   ]
  },
  {
   "cell_type": "code",
   "execution_count": 185,
   "metadata": {
    "collapsed": false
   },
   "outputs": [],
   "source": [
    "#SEASON 14 BLUE BACKGROUND\n",
    "\n",
    "season14Link = \"http://www.realitytea.com/2009/12/17/meet-the-25-bachelorettes-of-the-bachelor-14-on-the-wings-of-love-photos/\"\n",
    "season14PicLinks = []\n",
    "testPage=requests.get(season14Link)\n",
    "soup = BeautifulSoup(testPage.text, \"html.parser\")\n",
    "rows = soup.find_all(\"img\")\n",
    "for row in rows:\n",
    "    if row.get(\"src\"):\n",
    "        if \"the-bachelor-14\" in row.get(\"src\"):\n",
    "            season14PicLinks.append(str(row.get(\"src\")))"
   ]
  },
  {
   "cell_type": "code",
   "execution_count": 186,
   "metadata": {
    "collapsed": false
   },
   "outputs": [],
   "source": [
    "#SEASON 15 BLUE BACKGROUND\n",
    "#all on one page --  yay!\n",
    "season15Link = \"http://www.realitytea.com/2010/12/21/photos-meet-the-25-bachelorettes-of-brad-womacks-the-bachelor-15/\"\n",
    "season15PicLinks = []\n",
    "testPage=requests.get(season15Link)\n",
    "soup = BeautifulSoup(testPage.text, \"html.parser\")\n",
    "rows = soup.find_all(\"img\")\n",
    "for row in rows:\n",
    "    if row.get(\"src\"):\n",
    "        if \"the-bachelor-15\" in row.get(\"src\"):\n",
    "            season15PicLinks.append(str(row.get(\"src\")))"
   ]
  },
  {
   "cell_type": "code",
   "execution_count": 187,
   "metadata": {
    "collapsed": true
   },
   "outputs": [],
   "source": [
    "#SEASON 16 BLUE BACKGROUND\n",
    "#all on one page --  yay!\n",
    "season16Link = \"http://www.realitytea.com/2011/12/12/photos-%E2%80%93-meet-the-25-bachelorettes-of-ben-flajnik%E2%80%99s-the-bachelor-season-16/\"\n",
    "season16PicLinks = []\n",
    "testPage=requests.get(season16Link)\n",
    "soup = BeautifulSoup(testPage.text, \"html.parser\")\n",
    "rows = soup.find_all(\"img\")\n",
    "for row in rows:\n",
    "    if row.get(\"src\"):\n",
    "        if \"the-bachelor-16\" in row.get(\"src\"):\n",
    "            season16PicLinks.append(str(row.get(\"src\")))"
   ]
  },
  {
   "cell_type": "code",
   "execution_count": 188,
   "metadata": {
    "collapsed": false
   },
   "outputs": [],
   "source": [
    "#SEASON 17 BLUE BACKGROUND\n",
    "season17PicLinks=[]\n",
    "for i in range(2,9):\n",
    "    season17PicLinks.append(\"https://web.archive.org/web/20151113223542/http://www.trbimg.com/img-50620939/turbine/zap-the-bachelor-meet-the-season-17-bacheloret-00%d/600\" % i)\n",
    "for j in range(10,29):\n",
    "    season17PicLinks.append(\"https://web.archive.org/web/20151113223542/http://www.trbimg.com/img-50620939/turbine/zap-the-bachelor-meet-the-season-17-bacheloret-0%d/600\" % j)"
   ]
  },
  {
   "cell_type": "code",
   "execution_count": 189,
   "metadata": {
    "collapsed": false
   },
   "outputs": [],
   "source": [
    "#SEASON 18 BLUE BACKGROUND\n",
    "season18Links=[]\n",
    "for k in range(71,98):\n",
    "    season18Links.append(\"http://www.usmagazine.com/entertainment/pictures/the-bachelor-season-18-meet-juan-pablos-bachelorettes-2013412/343%d\" % k)\n",
    "season18PicLinks = []\n",
    "for link in season18Links:\n",
    "    testPage=requests.get(link)\n",
    "    soup = BeautifulSoup(testPage.text, \"html.parser\")\n",
    "    rows = soup.find_all(\"img\")\n",
    "    for row in rows:\n",
    "        if row.get(\"src\"):\n",
    "            if \"18-meet-juan-pablos\" in row.get(\"src\"):\n",
    "                season18PicLinks.append(str(row.get(\"src\")))"
   ]
  },
  {
   "cell_type": "code",
   "execution_count": 190,
   "metadata": {
    "collapsed": false
   },
   "outputs": [],
   "source": [
    "#SEASON 19 BLUE BACKGROUND\n",
    "season19Links=[]\n",
    "nameBank = [\"Whitney\",\"Becca\",\"Kaitlyn\",\"Jade\",\"Carly\",\"Britt\",\"Megan\",\"Kelsey\",\"Ashley-I\",\"Mackenzie\",\"Samantha\",\"Ashley-S\",\"Juelia\",\"Nikki\",\"Jillian\",\"Amber\",\"Tracy\",\"Trina\",\"Alissa\",\"Jordan\",\"Kimberly\",\"Tandra\",\"Tara\",\"Amanda\",\"Bo\",\"Brittany\",\"Kara\",\"Michelle\",\"Nicole\",\"Reegan\"]\n",
    "season19Links.append(\"http://www.usmagazine.com/entertainment/pictures/bachelor-season-19-chris-soules-bachelorettes-2014412/42609\")\n",
    "for k in range(10,39):\n",
    "    season19Links.append(\"http://www.usmagazine.com/entertainment/pictures/bachelor-season-19-chris-soules-bachelorettes-2014412/426%d\"%k)\n",
    "season19PicLinks = []\n",
    "for link in season19Links:\n",
    "    testPage=requests.get(link)\n",
    "    soup = BeautifulSoup(testPage.text, \"html.parser\")\n",
    "    rows = soup.find_all(\"img\")\n",
    "    for row in rows:\n",
    "        if row.get(\"src\"):\n",
    "            if \"19-chris-soules-bachelorettes\" in row.get(\"src\"):\n",
    "                season19PicLinks.append(str(row.get(\"src\")))"
   ]
  },
  {
   "cell_type": "code",
   "execution_count": 191,
   "metadata": {
    "collapsed": false
   },
   "outputs": [
    {
     "data": {
      "text/plain": [
       "105"
      ]
     },
     "execution_count": 191,
     "metadata": {},
     "output_type": "execute_result"
    }
   ],
   "source": [
    "#AGGREGATE PICS\n",
    "allPicLinks = np.concatenate([season13PicLinks,season14PicLinks,season15PicLinks,season16PicLinks,season17PicLinks,season18PicLinks,season19PicLinks])\n",
    "len(allPicLinks)\n",
    "\n",
    "#might also be helpful: http://www.buddytv.com/tvshow/page/the-bachelor-cast-1.aspx"
   ]
  },
  {
   "cell_type": "markdown",
   "metadata": {},
   "source": [
    "#2. Save links to local machine & Turn into NumPy Arrays"
   ]
  },
  {
   "cell_type": "code",
   "execution_count": null,
   "metadata": {
    "collapsed": true
   },
   "outputs": [],
   "source": [
    "import PIL\n",
    "from PIL import Image"
   ]
  },
  {
   "cell_type": "markdown",
   "metadata": {},
   "source": [
    "Uncomment this block if running for the first time."
   ]
  },
  {
   "cell_type": "code",
   "execution_count": 192,
   "metadata": {
    "collapsed": false
   },
   "outputs": [],
   "source": [
    "#SAVE ALL PICS TO LOCAL MACHINE\n",
    "#only really need to do this once\n",
    "#make sure you're in the right folder on your local machine\n",
    "\n",
    "#import urllib\n",
    "#count = 0\n",
    "#for link in allPicLinks:\n",
    "#    urllib.urlretrieve(link, \"bachelorette_pics/bachelorette%d.jpg\" % count)\n",
    "#    count = count+1"
   ]
  },
  {
   "cell_type": "code",
   "execution_count": 193,
   "metadata": {
    "collapsed": false
   },
   "outputs": [],
   "source": [
    "picsAsMatrices = []\n",
    "viableIndices = np.concatenate([range(0,5),range(6,11),range(12,20),range(21,162)])\n",
    "for count in viableIndices:\n",
    "    picsAsMatrices.append(sp.misc.imread(\"bachelorette_pics/bachelorette%d.jpg\" % count))"
   ]
  },
  {
   "cell_type": "markdown",
   "metadata": {},
   "source": [
    "I don't think this next block is necessary."
   ]
  },
  {
   "cell_type": "code",
   "execution_count": 195,
   "metadata": {
    "collapsed": false
   },
   "outputs": [],
   "source": [
    "#picsAsBinaryMatrices = []\n",
    "#for count in viableIndices:\n",
    "#    img = Image.open(\"bachelorette_pics/bachelorette%d.jpg\" % count).convert('LA')\n",
    "#    #img.save(\"greyscale_pics/greyscale%d.png\" % count)\n",
    "#    picsAsBinaryMatrices.append(img)"
   ]
  },
  {
   "cell_type": "code",
   "execution_count": 196,
   "metadata": {
    "collapsed": false
   },
   "outputs": [],
   "source": [
    "picsAsBinaryMatrices = []\n",
    "#turn pics into B&W, then into (binary) numpy arrays\n",
    "for count in viableIndices:\n",
    "    img0 = Image.open(\"bachelorette_pics/bachelorette%d.jpg\" % count).convert('LA')\n",
    "    img0.save(\"greyscale_pics/greyscale%d.png\" % count)\n",
    "    img1 = np.array(img0.getdata())\n",
    "    img2 = (img1[:,1]-img1[:,0]).reshape(img0.size[1], img0.size[0])\n",
    "    picsAsBinaryMatrices.append(img2)"
   ]
  },
  {
   "cell_type": "markdown",
   "metadata": {},
   "source": [
    "Test code"
   ]
  },
  {
   "cell_type": "code",
   "execution_count": 197,
   "metadata": {
    "collapsed": false
   },
   "outputs": [],
   "source": [
    "#plt.imshow(picsAsBinaryMatrices[156]);\n",
    "#im1 = picsAsBinaryMatrices[15]\n",
    "#im2 = picsAsBinaryMatrices[16]\n",
    "#mat1 = np.array(im1.getdata())#.reshape(im1.size[0], im1.size[1], 2)\n",
    "#mat11= (mat1[:,1]-mat1[:,0]).reshape(im1.size[1], im1.size[0])\n",
    "#plt.imshow(mat11)\n",
    "\n",
    "#heights,widths=[],[]\n",
    "#for pic in picsAsBinaryMatrices:\n",
    "#    heights.append(pic.size[0])\n",
    "#    widths.append(pic.size[1])"
   ]
  },
  {
   "cell_type": "markdown",
   "metadata": {},
   "source": [
    "I tried to use PIL but couldn't get eigenvalues, eigenvectors, etc. with it so I made my own."
   ]
  },
  {
   "cell_type": "code",
   "execution_count": 198,
   "metadata": {
    "collapsed": false
   },
   "outputs": [],
   "source": [
    "#cropHeight = min(heights)\n",
    "#cropWidth = min(widths)\n",
    "#cropParams = [0,0,cropHeight,cropWidth]\n",
    "\n",
    "#im1 = im1.crop(cropParams)\n",
    "#im2 = im2.crop(cropParams)\n",
    "#Image.blend(im1,im2,alpha=0.5)\n",
    "\n",
    "#newIm = picsAsBinaryMatrices[0]\n",
    "#newIm = newIm.crop(cropParams)\n",
    "#for pic in picsAsBinaryMatrices:\n",
    "#    tempPic = pic.crop(cropParams)\n",
    "#    newIm = Image.blend(newIm,tempPic,alpha=0.25)\n",
    "\n",
    "##test\n",
    "#newIm = np.add(picsAsBinaryMatrices[0],picsAsBinaryMatrices[1])\n",
    "#newIm = np.add(newIm,picsAsBinaryMatrices[4])\n",
    "#plt.imshow(newIm)"
   ]
  },
  {
   "cell_type": "markdown",
   "metadata": {},
   "source": [
    "#3. Registration"
   ]
  },
  {
   "cell_type": "code",
   "execution_count": 303,
   "metadata": {
    "collapsed": false
   },
   "outputs": [],
   "source": [
    "#REGISTRATION, using cross-correlation. \n",
    "from scipy import signal\n",
    "from scipy import misc"
   ]
  },
  {
   "cell_type": "markdown",
   "metadata": {},
   "source": [
    "Test code"
   ]
  },
  {
   "cell_type": "code",
   "execution_count": 1053,
   "metadata": {
    "collapsed": true
   },
   "outputs": [],
   "source": [
    "#decRate = 20\n",
    "#sig0 = [[0,0,0],[0,1,0],[0,0,0]]\n",
    "#sig1 = picsAsBinaryMatrices[0][85:135,125:175]\n",
    "#sig2 = picsAsBinaryMatrices[1][80:130,100:150]\n",
    "#decSig1 = sp.misc.imresize(sig1, decRate, interp='nearest', mode=None)\n",
    "#decSig2 = sp.misc.imresize(sig2, decRate, interp='nearest', mode=None)\n",
    "#xcorr = sp.signal.correlate2d(sig0,sig0, mode='full', boundary='symm')\n",
    "\n",
    "#print xcorr\n",
    "#print\n",
    "#print xcorr.shape\n",
    "#plt.imshow(xcorr);\n",
    "\n",
    "#plt.imshow(decSig1)\n",
    "\n",
    "#subset4= picsAsBinaryMatrices[testnum][50:(50+framesize),50:(50+framesize)]\n",
    "#subset5= picsAsBinaryMatrices[refnum][50:(50+framesize),50:(50+framesize)]\n",
    "#xcorr = sp.signal.correlate2d(picsAsBinaryMatrices[refnum],subset4, mode='same', boundary='symm')\n",
    "#print (picsAsBinaryMatrices[refnum]).shape\n",
    "\n",
    "#decimated = sp.misc.imresize(picsAsBinaryMatrices[0], 10, interp='bilinear', mode=None)\n",
    "#plt.imshow(decimated)"
   ]
  },
  {
   "cell_type": "code",
   "execution_count": 1054,
   "metadata": {
    "collapsed": false
   },
   "outputs": [],
   "source": [
    "refnum = 6\n",
    "testnum = 17\n",
    "framesize = 150"
   ]
  },
  {
   "cell_type": "code",
   "execution_count": 1055,
   "metadata": {
    "collapsed": true
   },
   "outputs": [],
   "source": [
    "#mirror image borders\n",
    "def mirror_image(im):\n",
    "    im2 = np.concatenate((im[:,::-1],im),axis=1)\n",
    "    im2 = np.concatenate((im2,im[:,::-1]),axis=1)\n",
    "    mirrim = np.concatenate((im2,im2[::-1,:]),axis=0)\n",
    "    mirrim = np.concatenate((im2[::-1,:],mirrim),axis=0)\n",
    "    return mirrim"
   ]
  },
  {
   "cell_type": "code",
   "execution_count": 1052,
   "metadata": {
    "collapsed": false
   },
   "outputs": [],
   "source": [
    "#find index of max cross-correlation\n",
    "#from http://stackoverflow.com/questions/21989513/finding-index-of-maximum-value-in-array-with-numpy\n",
    "def nanargmax(a):\n",
    "    idx = np.argmax(a, axis=None)\n",
    "    multi_idx = np.unravel_index(idx, a.shape)\n",
    "    if np.isnan(a[multi_idx]):\n",
    "        nan_count = np.sum(np.isnan(a))\n",
    "        # In numpy < 1.8 use idx = np.argsort(a, axis=None)[-nan_count-1]\n",
    "        idx = np.argpartition(a, -nan_count-1, axis=None)[-nan_count-1]\n",
    "        multi_idx = np.unravel_index(idx, a.shape)\n",
    "    return multi_idx\n",
    "\n",
    "minx,miny = xcorr.shape\n",
    "optpix = nanargmax(xcorr[0:miny/2][0:minx/2]) #this would be the best way to translate the picture so it's aligned."
   ]
  },
  {
   "cell_type": "code",
   "execution_count": 849,
   "metadata": {
    "collapsed": true
   },
   "outputs": [],
   "source": [
    "def crop_pic(im,optpx): #image to align, optimal translation coordinates w.r.t. to some defined reference image\n",
    "    \n",
    "    fsz=0#110 #107 worked with ref 6 and num 4    \n",
    "    #standard image size: (400, 267)\n",
    "    px = optpx[1]-fsz\n",
    "    py = optpx[0]-fsz\n",
    "    x_std = im.shape[1]\n",
    "    y_std = im.shape[0]\n",
    "    print x_std+px,x_std*2+px\n",
    "    print y_std+py,y_std*2+py\n",
    "    aligned = mirror_image(im)[(y_std-py):(y_std*2-py),(x_std-px):(x_std*2-px)] #y, then x. it's weird I know but yes.\n",
    "    #crops image to original size about that good part. uses image mirroring.\n",
    "    \n",
    "    return aligned"
   ]
  },
  {
   "cell_type": "markdown",
   "metadata": {
    "collapsed": false
   },
   "source": [
    "Analysis goal: find eigenvalues & eigenvectors and then do PCA or something."
   ]
  },
  {
   "cell_type": "code",
   "execution_count": 1023,
   "metadata": {
    "collapsed": false
   },
   "outputs": [],
   "source": [
    "def crop_to_min_size(im,minsz=(400,267)):\n",
    "    \n",
    "    oldszx,oldszy = im.shape\n",
    "    newszx,newszy = minsz\n",
    "\n",
    "    newx0,newy0 = 0,0\n",
    "    newxf,newyf = minsz   \n",
    "    if oldszx > newszx:\n",
    "        newx0 = 0\n",
    "        newxf = newx0 + newszx\n",
    "    if oldszy > newszy:\n",
    "        newy0 = (oldszy-newszy)/2\n",
    "        newyf = newy0 + newszy    \n",
    "    cropped = im[newx0:newxf,newy0:newyf]\n",
    "    \n",
    "    return cropped"
   ]
  },
  {
   "cell_type": "code",
   "execution_count": 1024,
   "metadata": {
    "collapsed": true
   },
   "outputs": [],
   "source": [
    "def crop_pic(im,optpx,fc): #image to align, optimal translation coordinates w.r.t. to some defined reference image\n",
    "    \n",
    "    px = optpx[1]-fc[1]\n",
    "    py = optpx[0]-fc[0]\n",
    "    x_std = im.shape[1]\n",
    "    y_std = im.shape[0]\n",
    "    aligned = mirror_image(im)[(y_std-py):(y_std*2-py),(x_std+px):(x_std*2+px)] #y, then x. it's weird I know but yes.\n",
    "    #crops image to original size about that good part. uses image mirroring.\n",
    "    \n",
    "    return aligned"
   ]
  },
  {
   "cell_type": "code",
   "execution_count": 1025,
   "metadata": {
    "collapsed": false
   },
   "outputs": [],
   "source": [
    "def align_to_ref(imn,refn,fsz): #image number, ref number.\n",
    "\n",
    "    myim = crop_to_min_size(picsAsBinaryMatrices[imn]) #make smallest size so can add all\n",
    "    refim = picsAsBinaryMatrices[refn]\n",
    "    \n",
    "    fs = framesize; #frame size\n",
    "    fc = fs/2,np.rint((myim.shape[1])/2) #frame center\n",
    "    select_face = (fc[0]-fs/2),(fc[0]+fs/2),(fc[1]-fs/2),(fc[1]+fs/2)\n",
    "    subset= myim[select_face[0]:select_face[1],select_face[2]:select_face[3]]\n",
    "    xcorr = sp.signal.correlate2d(refim,subset, mode='same', boundary='symm') #takes time\n",
    "    minx,miny = xcorr.shape\n",
    "    optpix = nanargmax(xcorr[0:miny/2][0:minx/2]) #best way to translate the picture for alignment\n",
    "    aligned_image = crop_pic(myim,optpix,fc)\n",
    "    \n",
    "    return aligned_image"
   ]
  },
  {
   "cell_type": "markdown",
   "metadata": {},
   "source": [
    "##All the single ladies (All the single ladies)"
   ]
  },
  {
   "cell_type": "markdown",
   "metadata": {},
   "source": [
    "Test code"
   ]
  },
  {
   "cell_type": "code",
   "execution_count": 1028,
   "metadata": {
    "collapsed": false,
    "scrolled": true
   },
   "outputs": [],
   "source": [
    "##you can see, by running this block, that we're actually doing something with the cross-correlation\n",
    "##not all of the work was done heuristically in align_to_ref. nice.\n",
    "\n",
    "#aligned = []\n",
    "#for i in range(146,149):\n",
    "#    aligned.append(align_to_ref(i,6,framesize))\n",
    "#\n",
    "#fig = plt.figure(figsize=(15,30))\n",
    "#for a,j,i in zip(aligned,range(1,18),range(146,149)):\n",
    "#    s=fig.add_subplot(5,4,j)\n",
    "#    s.imshow(a+crop_to_min_size(picsAsBinaryMatrices[i]))"
   ]
  },
  {
   "cell_type": "code",
   "execution_count": 1029,
   "metadata": {
    "collapsed": false
   },
   "outputs": [],
   "source": [
    "#meanpic = np.mean([crop_to_min_size(a) for a in aligned], axis = 0)\n",
    "#plt.imshow(meanpic)"
   ]
  },
  {
   "cell_type": "markdown",
   "metadata": {},
   "source": [
    "This took my computer about 22 minutes."
   ]
  },
  {
   "cell_type": "code",
   "execution_count": 1030,
   "metadata": {
    "collapsed": false
   },
   "outputs": [
    {
     "name": "stdout",
     "output_type": "stream",
     "text": [
      "Aligning image  0  out of  159\n",
      "Aligning image  1  out of  159\n",
      "Aligning image  2  out of  159\n",
      "Aligning image  3  out of  159\n",
      "Aligning image  4  out of  159\n",
      "Aligning image  5  out of  159\n",
      "Aligning image  6  out of  159\n",
      "Aligning image  7  out of  159\n",
      "Aligning image  8  out of  159\n",
      "Aligning image  9  out of  159\n",
      "Aligning image  10  out of  159\n",
      "Aligning image  11  out of  159\n",
      "Aligning image  12  out of  159\n",
      "Aligning image  13  out of  159\n",
      "Aligning image  14  out of  159\n",
      "Aligning image  15  out of  159\n",
      "Aligning image  16  out of  159\n",
      "Aligning image  17  out of  159\n",
      "Aligning image  18  out of  159\n",
      "Aligning image  19  out of  159\n",
      "Aligning image  20  out of  159\n",
      "Aligning image  21  out of  159\n",
      "Aligning image  22  out of  159\n",
      "Aligning image  23  out of  159\n",
      "Aligning image  24  out of  159\n",
      "Aligning image  25  out of  159\n",
      "Aligning image  26  out of  159\n",
      "Aligning image  27  out of  159\n",
      "Aligning image  28  out of  159\n",
      "Aligning image  29  out of  159\n",
      "Aligning image  30  out of  159\n",
      "Aligning image  31  out of  159\n",
      "Aligning image  32  out of  159\n",
      "Aligning image  33  out of  159\n",
      "Aligning image  34  out of  159\n",
      "Aligning image  35  out of  159\n",
      "Aligning image  36  out of  159\n",
      "Aligning image  37  out of  159\n",
      "Aligning image  38  out of  159\n",
      "Aligning image  39  out of  159\n",
      "Aligning image  40  out of  159\n",
      "Aligning image  41  out of  159\n",
      "Aligning image  42  out of  159\n",
      "Aligning image  43  out of  159\n",
      "Aligning image  44  out of  159\n",
      "Aligning image  45  out of  159\n",
      "Aligning image  46  out of  159\n",
      "Aligning image  47  out of  159\n",
      "Aligning image  48  out of  159\n",
      "Aligning image  49  out of  159\n",
      "Aligning image  50  out of  159\n",
      "Aligning image  51  out of  159\n",
      "Aligning image  52  out of  159\n",
      "Aligning image  53  out of  159\n",
      "Aligning image  54  out of  159\n",
      "Aligning image  55  out of  159\n",
      "Aligning image  56  out of  159\n",
      "Aligning image  57  out of  159\n",
      "Aligning image  58  out of  159\n",
      "Aligning image  59  out of  159\n",
      "Aligning image  60  out of  159\n",
      "Aligning image  61  out of  159\n",
      "Aligning image  62  out of  159\n",
      "Aligning image  63  out of  159\n",
      "Aligning image  64  out of  159\n",
      "Aligning image  65  out of  159\n",
      "Aligning image  66  out of  159\n",
      "Aligning image  67  out of  159\n",
      "Aligning image  68  out of  159\n",
      "Aligning image  69  out of  159\n",
      "Aligning image  70  out of  159\n",
      "Aligning image  71  out of  159\n",
      "Aligning image  72  out of  159\n",
      "Aligning image  73  out of  159\n",
      "Aligning image  74  out of  159\n",
      "Aligning image  75  out of  159\n",
      "Aligning image  76  out of  159\n",
      "Aligning image  77  out of  159\n",
      "Aligning image  78  out of  159\n",
      "Aligning image  79  out of  159\n",
      "Aligning image  80  out of  159\n",
      "Aligning image  81  out of  159\n",
      "Aligning image  82  out of  159\n",
      "Aligning image  83  out of  159\n",
      "Aligning image  84  out of  159\n",
      "Aligning image  85  out of  159\n",
      "Aligning image  86  out of  159\n",
      "Aligning image  87  out of  159\n",
      "Aligning image  88  out of  159\n",
      "Aligning image  89  out of  159\n",
      "Aligning image  90  out of  159\n",
      "Aligning image  91  out of  159\n",
      "Aligning image  92  out of  159\n",
      "Aligning image  93  out of  159\n",
      "Aligning image  94  out of  159\n",
      "Aligning image  95  out of  159\n",
      "Aligning image  96  out of  159\n",
      "Aligning image  97  out of  159\n",
      "Aligning image  98  out of  159\n",
      "Aligning image  99  out of  159\n",
      "Aligning image  100  out of  159\n",
      "Aligning image  101  out of  159\n",
      "Aligning image  102  out of  159\n",
      "Aligning image  103  out of  159\n",
      "Aligning image  104  out of  159\n",
      "Aligning image  105  out of  159\n",
      "Aligning image  106  out of  159\n",
      "Aligning image  107  out of  159\n",
      "Aligning image  108  out of  159\n",
      "Aligning image  109  out of  159\n",
      "Aligning image  110  out of  159\n",
      "Aligning image  111  out of  159\n",
      "Aligning image  112  out of  159\n",
      "Aligning image  113  out of  159\n",
      "Aligning image  114  out of  159\n",
      "Aligning image  115  out of  159\n",
      "Aligning image  116  out of  159\n",
      "Aligning image  117  out of  159\n",
      "Aligning image  118  out of  159\n",
      "Aligning image  119  out of  159\n",
      "Aligning image  120  out of  159\n",
      "Aligning image  121  out of  159\n",
      "Aligning image  122  out of  159\n",
      "Aligning image  123  out of  159\n",
      "Aligning image  124  out of  159\n",
      "Aligning image  125  out of  159\n",
      "Aligning image  126  out of  159\n",
      "Aligning image  127  out of  159\n",
      "Aligning image  128  out of  159\n",
      "Aligning image  129  out of  159\n",
      "Aligning image  130  out of  159\n",
      "Aligning image  131  out of  159\n",
      "Aligning image  132  out of  159\n",
      "Aligning image  133  out of  159\n",
      "Aligning image  134  out of  159\n",
      "Aligning image  135  out of  159\n",
      "Aligning image  136  out of  159\n",
      "Aligning image  137  out of  159\n",
      "Aligning image  138  out of  159\n",
      "Aligning image  139  out of  159\n",
      "Aligning image  140  out of  159\n",
      "Aligning image  141  out of  159\n",
      "Aligning image  142  out of  159\n",
      "Aligning image  143  out of  159\n",
      "Aligning image  144  out of  159\n",
      "Aligning image  145  out of  159\n",
      "Aligning image  146  out of  159\n",
      "Aligning image  147  out of  159\n",
      "Aligning image  148  out of  159\n",
      "Aligning image  149  out of  159\n",
      "Aligning image  150  out of  159\n",
      "Aligning image  151  out of  159\n",
      "Aligning image  152  out of  159\n",
      "Aligning image  153  out of  159\n",
      "Aligning image  154  out of  159\n",
      "Aligning image  155  out of  159\n",
      "Aligning image  156  out of  159\n",
      "Aligning image  157  out of  159\n",
      "Aligning image  158  out of  159\n",
      "1356.89016294\n"
     ]
    }
   ],
   "source": [
    "framesize = 200\n",
    "\n",
    "import time\n",
    "\n",
    "start = time.time()\n",
    "\n",
    "alignedSet = []\n",
    "for thisPic in range(0,len(picsAsBinaryMatrices)):\n",
    "    #using image 6 as a reference because she is pretty centered in the frame\n",
    "    alignedSet.append(align_to_ref(thisPic,6,framesize))\n",
    "    print \"Aligning image \", thisPic, \" out of \", len(picsAsBinaryMatrices)\n",
    "    \n",
    "end = time.time()\n",
    "print end - start"
   ]
  },
  {
   "cell_type": "markdown",
   "metadata": {},
   "source": [
    "#5. Save aligned images to local machine"
   ]
  },
  {
   "cell_type": "code",
   "execution_count": 1031,
   "metadata": {
    "collapsed": false
   },
   "outputs": [],
   "source": [
    "#for thisPic,count in zip(alignedSet,viableIndices):\n",
    "#    np.save(\"aligned_pics/aligned%d\" % count,thisPic) #saved as numpy arrays"
   ]
  },
  {
   "cell_type": "markdown",
   "metadata": {},
   "source": [
    "Remove that one, too-small group shot."
   ]
  },
  {
   "cell_type": "code",
   "execution_count": 1049,
   "metadata": {
    "collapsed": false
   },
   "outputs": [],
   "source": [
    "#find the groupshot\n",
    "for thisPic,count in zip(alignedSet,range(0,len(alignedSet))):\n",
    "    if thisPic.shape[0]<400:\n",
    "        groupshot = count\n",
    "        plt.imshow(thisPic)\n",
    "\n",
    "#delete that groupshot\n",
    "alignedSet = np.delete(alignedSet,groupshot)       \n",
    "viableIndices = np.delete(viableIndices,groupshot)"
   ]
  },
  {
   "cell_type": "code",
   "execution_count": 1050,
   "metadata": {
    "collapsed": false
   },
   "outputs": [
    {
     "data": {
      "text/plain": [
       "<matplotlib.image.AxesImage at 0x22159b450>"
      ]
     },
     "execution_count": 1050,
     "metadata": {},
     "output_type": "execute_result"
    },
    {
     "data": {
      "image/png": "[encoded data removed]",
      "text/plain": [
       "<matplotlib.figure.Figure at 0x220498890>"
      ]
     },
     "metadata": {},
     "output_type": "display_data"
    }
   ],
   "source": [
    "alignedMean = np.mean(alignedSet)\n",
    "plt.imshow(alignedMean)"
   ]
  },
  {
   "cell_type": "code",
   "execution_count": 1051,
   "metadata": {
    "collapsed": false
   },
   "outputs": [
    {
     "data": {
      "text/plain": [
       "array([  0,   1,   2,   3,   4,   6,   7,   8,   9,  10,  12,  13,  14,\n",
       "        15,  16,  17,  18,  19,  21,  22,  23,  24,  26,  27,  28,  29,\n",
       "        30,  31,  32,  33,  34,  35,  36,  37,  38,  39,  40,  41,  42,\n",
       "        43,  44,  45,  46,  47,  48,  49,  50,  51,  52,  53,  54,  55,\n",
       "        56,  57,  58,  59,  60,  61,  62,  63,  64,  65,  66,  67,  68,\n",
       "        69,  70,  71,  72,  73,  74,  75,  76,  77,  78,  79,  80,  81,\n",
       "        82,  83,  84,  85,  86,  87,  88,  89,  90,  91,  92,  93,  94,\n",
       "        95,  96,  97,  98,  99, 100, 101, 102, 103, 104, 105, 106, 107,\n",
       "       108, 109, 110, 111, 112, 113, 114, 115, 116, 117, 118, 119, 120,\n",
       "       121, 122, 123, 124, 125, 126, 127, 128, 129, 130, 131, 132, 133,\n",
       "       134, 135, 136, 137, 138, 139, 140, 141, 142, 143, 144, 145, 146,\n",
       "       147, 148, 149, 150, 151, 152, 153, 154, 155, 156, 157, 158, 159,\n",
       "       160, 161])"
      ]
     },
     "execution_count": 1051,
     "metadata": {},
     "output_type": "execute_result"
    }
   ],
   "source": [
    "viableIndices"
   ]
  },
  {
   "cell_type": "code",
   "execution_count": null,
   "metadata": {
    "collapsed": true
   },
   "outputs": [],
   "source": []
  }
 ],
 "metadata": {
  "kernelspec": {
   "display_name": "Python 2",
   "language": "python",
   "name": "python2"
  },
  "language_info": {
   "codemirror_mode": {
    "name": "ipython",
    "version": 2
   },
   "file_extension": ".py",
   "mimetype": "text/x-python",
   "name": "python",
   "nbconvert_exporter": "python",
   "pygments_lexer": "ipython2",
   "version": "2.7.10"
  }
 },
 "nbformat": 4,
 "nbformat_minor": 0
}
