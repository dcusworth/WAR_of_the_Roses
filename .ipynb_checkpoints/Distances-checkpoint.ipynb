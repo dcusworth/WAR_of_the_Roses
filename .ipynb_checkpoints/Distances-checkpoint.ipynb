{
 "cells": [
  {
   "cell_type": "markdown",
   "metadata": {},
   "source": [
    "# Distance Indicator\n",
    "\n",
    "Here we create an predictor that is defined as the geographic (as the crow flies) distance between The Bachelor's hometown and each contestant"
   ]
  },
  {
   "cell_type": "code",
   "execution_count": 41,
   "metadata": {
    "collapsed": true
   },
   "outputs": [],
   "source": [
    "%matplotlib inline\n",
    "import numpy as np\n",
    "import scipy as sp\n",
    "import matplotlib as mpl\n",
    "import matplotlib.cm as cm\n",
    "import matplotlib.pyplot as plt\n",
    "import pandas as pd\n",
    "import time\n",
    "pd.set_option('display.width', 500)\n",
    "pd.set_option('display.max_columns', 100)\n",
    "pd.set_option('display.notebook_repr_html', True)\n",
    "import seaborn as sns\n",
    "sns.set_style(\"whitegrid\")\n",
    "sns.set_context(\"poster\")\n",
    "from pyquery import PyQuery as pq\n",
    "from bs4 import BeautifulSoup\n",
    "import requests\n",
    "import json\n",
    "from geopy import geocoders\n",
    "import math"
   ]
  },
  {
   "cell_type": "code",
   "execution_count": 62,
   "metadata": {
    "collapsed": false
   },
   "outputs": [],
   "source": [
    "#Import seasonsDict.json which contains hometown information\n",
    "with open(\"tempdata/listAllDicts.json\") as json_file:\n",
    "    seasons = json.load(json_file)\n"
   ]
  },
  {
   "cell_type": "markdown",
   "metadata": {},
   "source": [
    "Here get the hometown information from each candidate"
   ]
  },
  {
   "cell_type": "code",
   "execution_count": 67,
   "metadata": {
    "collapsed": false
   },
   "outputs": [],
   "source": [
    "#Make a function that get's contestant's hometown for a given season\n",
    "#Update known errors in the dictionary\n",
    "def get_hometowns(choose_season):\n",
    "    town_dict = {}\n",
    "    for idict in seasons:\n",
    "        if idict[\"season\"] == choose_season:\n",
    "            if idict[\"elimination\"] == \"bachelor\":\n",
    "                bachtown = idict[\"hometown\"]\n",
    "            else:\n",
    "                if idict[\"name\"] == \"Kacie Boguskie\":\n",
    "                    idict[\"hometown\"] = \"Clarksville, Tennessee\"\n",
    "                town_dict.update({idict['name']:idict['hometown']})\n",
    "    return bachtown, town_dict\n"
   ]
  },
  {
   "cell_type": "markdown",
   "metadata": {},
   "source": [
    "We use a function that computes the distance between two points on a sphere, which follows the following equation:\n",
    "\n",
    "$$ \\cos(arc length) = \\cos{\\phi_1}\\cos{\\phi_2} + \\sin{\\phi_1}\\sin{\\phi_2}\\cos{(\\theta_1 - \\theta_2)}$$\n",
    "\n",
    "We then multiply the arc length by the radius of the Earth to get the distance."
   ]
  },
  {
   "cell_type": "code",
   "execution_count": 56,
   "metadata": {
    "collapsed": true
   },
   "outputs": [],
   "source": [
    "#Create a function to compute distance between two lat/lon points on Earth\n",
    "#Borrows heavily from http://www.johndcook.com/blog/python_longitude_latitude/ \n",
    "def distance_on_unit_sphere(lat1, long1, lat2, long2):\n",
    " \n",
    "    # Convert latitude and longitude to \n",
    "    # spherical coordinates in radians.\n",
    "    degrees_to_radians = math.pi/180.0\n",
    "         \n",
    "    # phi = 90 - latitude\n",
    "    phi1 = (90.0 - lat1)*degrees_to_radians\n",
    "    phi2 = (90.0 - lat2)*degrees_to_radians\n",
    "         \n",
    "    # theta = longitude\n",
    "    theta1 = long1*degrees_to_radians\n",
    "    theta2 = long2*degrees_to_radians\n",
    "         \n",
    "    # Compute spherical distance from spherical coordinates.\n",
    "         \n",
    "    # For two locations in spherical coordinates \n",
    "    # (1, theta, phi) and (1, theta', phi')\n",
    "    # cosine( arc length ) = \n",
    "    #    sin phi sin phi' cos(theta-theta') + cos phi cos phi'\n",
    "    # distance = rho * arc length\n",
    "     \n",
    "    cos = (math.sin(phi1)*math.sin(phi2)*math.cos(theta1 - theta2) + \n",
    "           math.cos(phi1)*math.cos(phi2))\n",
    "    arc = math.acos( cos )\n",
    "    \n",
    "    Rearth = 3959 #in miles\n",
    " \n",
    "    return arc * Rearth"
   ]
  },
  {
   "cell_type": "markdown",
   "metadata": {},
   "source": [
    "To convert hometowns in (city, state) format, we use the python package \"geopy\" which accepts input in our format, and returns the lat/lon coordinates of the center of town. "
   ]
  },
  {
   "cell_type": "code",
   "execution_count": 58,
   "metadata": {
    "collapsed": false
   },
   "outputs": [],
   "source": [
    "#Make function that gets distance between contestant and Bachelor\n",
    "def get_contest_distance(hometown_output):\n",
    "    bach_home, c_home = hometown_output\n",
    "    \n",
    "    #Use geopy package to get lat/lon from location\n",
    "    gn = geocoders.Nominatim()\n",
    "    \n",
    "    #Get the Bachelor location\n",
    "    bhome = gn.geocode(bach_home)\n",
    "    blat = float(bhome.raw[\"lat\"])\n",
    "    blon = float(bhome.raw[\"lon\"])\n",
    "\n",
    "    #Find distance between bachelor and contestant distances\n",
    "    distance_dict = {}\n",
    "    for contestant in c_home.keys():\n",
    "        chome = gn.geocode(c_home[contestant])\n",
    "        clat = float(chome.raw[\"lat\"])\n",
    "        clon = float(chome.raw[\"lon\"])\n",
    "\n",
    "        #Find distance\n",
    "        distance_apart = distance_on_unit_sphere(blat, blon, clat, clon)\n",
    "\n",
    "        distance_dict.update({contestant: distance_apart})\n",
    "\n",
    "    return distance_dict\n",
    "    "
   ]
  },
  {
   "cell_type": "markdown",
   "metadata": {},
   "source": [
    "Run over all seasons and save the output as a dictionary"
   ]
  },
  {
   "cell_type": "code",
   "execution_count": 68,
   "metadata": {
    "collapsed": false
   },
   "outputs": [
    {
     "name": "stdout",
     "output_type": "stream",
     "text": [
      "season  13  done\n",
      "season  14  done\n",
      "season  15  done\n",
      "season  16  done\n",
      "season  17  done\n",
      "season  18  done\n",
      "season  19  done\n"
     ]
    }
   ],
   "source": [
    "season_nums = range(13,20)\n",
    "\n",
    "#Run over all seasons\n",
    "distance_dict = {}\n",
    "for season_num in season_nums:\n",
    "    distance_dict.update({season_num: get_contest_distance(get_hometowns(season_num))})\n",
    "    print \"season \", season_num, \" done\"\n"
   ]
  },
  {
   "cell_type": "code",
   "execution_count": 50,
   "metadata": {
    "collapsed": true
   },
   "outputs": [],
   "source": [
    "with open('distances.json', 'w') as fp:\n",
    "    json.dump(distance_dict, fp)"
   ]
  },
  {
   "cell_type": "code",
   "execution_count": null,
   "metadata": {
    "collapsed": true
   },
   "outputs": [],
   "source": []
  }
 ],
 "metadata": {
  "kernelspec": {
   "display_name": "Python 2",
   "language": "python",
   "name": "python2"
  },
  "language_info": {
   "codemirror_mode": {
    "name": "ipython",
    "version": 2
   },
   "file_extension": ".py",
   "mimetype": "text/x-python",
   "name": "python",
   "nbconvert_exporter": "python",
   "pygments_lexer": "ipython2",
   "version": "2.7.10"
  }
 },
 "nbformat": 4,
 "nbformat_minor": 0
}
