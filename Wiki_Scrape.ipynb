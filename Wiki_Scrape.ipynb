{
 "cells": [
  {
   "cell_type": "code",
   "execution_count": 1,
   "metadata": {
    "collapsed": true
   },
   "outputs": [],
   "source": [
    "%matplotlib inline\n",
    "import numpy as np\n",
    "import scipy as sp\n",
    "import matplotlib as mpl\n",
    "import matplotlib.cm as cm\n",
    "import matplotlib.pyplot as plt\n",
    "import pandas as pd\n",
    "import time\n",
    "pd.set_option('display.width', 500)\n",
    "pd.set_option('display.max_columns', 100)\n",
    "pd.set_option('display.notebook_repr_html', True)\n",
    "import seaborn as sns\n",
    "sns.set_style(\"whitegrid\")\n",
    "sns.set_context(\"poster\")\n",
    "from pyquery import PyQuery as pq\n",
    "from bs4 import BeautifulSoup\n",
    "import requests"
   ]
  },
  {
   "cell_type": "code",
   "execution_count": 36,
   "metadata": {
    "collapsed": false
   },
   "outputs": [],
   "source": [
    "#get wiki for all bachelor seasons\n",
    "allseasons = requests.get(\"https://en.wikipedia.org/wiki/The_Bachelor_(U.S._TV_series)#Seasons\")\n",
    "#make beautiful soup element\n",
    "soup = BeautifulSoup(allseasons.text, \"html.parser\")\n",
    "\n",
    "#get the table cell that has links to each episode\n",
    "seasons = soup.find(\"table\", attrs={\"class\":\"navbox\"}).find(\"td\", attrs={\"class\":\"navbox-list navbox-odd hlist\"})\n",
    "seasons = seasons.find(\"div\", attrs={\"style\":\"padding:0em 0.25em\"}).find(\"ul\")\n",
    "\n",
    "urls = []                           #list of links to season-specific page\n",
    "seasonNums = []                     #list of seasons with wiki pages\n",
    "seasonNum = 1                       #season number\n",
    "for item in seasons.find_all(\"li\"): #for each item in list of seasons\n",
    "    if (seasonNum == 20):           #don't include season 20, b/c no contestants listed yet\n",
    "        break\n",
    "    season = item.find(\"a\")         #get url link\n",
    "    if season is not None:          #if has url link, get url text\n",
    "        urls.append(\"\\\"https://en.wikipedia.org\" + season.get(\"href\") + \"\\\"\")\n",
    "        seasonNums.append(seasonNum) #add season number to list \n",
    "    seasonNum += 1\n",
    "    \n",
    "wikiPageText = []                   #init list of wiki site text, for all seasons\n",
    "for url in urls:\n",
    "    site = requests.get(url[1:-1])  #get web-site for that url\n",
    "    soup = BeautifulSoup(site.text, \"html.parser\") #make BS element\n",
    "    wikiPageText.append(soup)       #add web-site text to list\n",
    "\n",
    "wikiPages = dict(zip(seasonNums, wikiPageText)) #key=season, val=Soup Elem(wiki page text)"
   ]
  },
  {
   "cell_type": "code",
   "execution_count": 41,
   "metadata": {
    "collapsed": false
   },
   "outputs": [
    {
     "name": "stdout",
     "output_type": "stream",
     "text": [
      "('sn: ', 5)\n",
      "('sn: ', 9)\n",
      "('sn: ', 10)\n",
      "('sn: ', 11)\n",
      "('sn: ', 12)\n",
      "('sn: ', 13)\n",
      "('sn: ', 14)\n",
      "('sn: ', 15)\n",
      "('sn: ', 16)\n",
      "('sn: ', 17)\n",
      "('sn: ', 18)\n",
      "('sn: ', 19)\n",
      "<td><b><a href=\"/wiki/Huntington_Beach,_California\" title=\"Huntington Beach, California\">Huntington Beach, California</a></b></td>\n"
     ]
    }
   ],
   "source": [
    "#for each season, make dictionary for each contestant\n",
    "\n",
    "seasonsDict = dict()                #key = season num, val=list of contestant dictionaries\n",
    "\n",
    "for sn in seasonNums:\n",
    "    print (\"sn: \", sn)\n",
    "    seasonPage = wikiPages[sn]      #get BS element for this season\n",
    "    seasonPage = seasonPage.find(\"div\", attrs={\"id\":\"content\"}).find(\"div\", attrs={\"id\":\"bodyContent\"})\n",
    "    seasonPage = seasonPage.find(\"div\", attrs={\"id\":\"mw-content-text\"})\n",
    "    #seasonPage = seasonPage.find(\"span\", attrs={\"id\":\"Contestants\"})\n",
    "    #seasonPage = seasonPage.find_all(\"table\")[1]\n",
    "    #for sp in seasonPage:\n",
    "\n",
    "    seasonPage = seasonPage.find(\"table\", attrs={\"class\":\"wikitable sortable\"})\n",
    "    \n",
    "    #seasonPage = seasonPage.find(\"tbody\")\n",
    "    #print seasonPage\n",
    "    #break\n",
    "    listOfContestantDicts = []                #list of dicts for each contestant\n",
    "    \n",
    "    numtr = 0\n",
    "    for tr in seasonPage.find_all(\"tr\"):      #for each contestant listed,\n",
    "        if (numtr == 0):                      #skip first row (column headers)\n",
    "            numtr += 1\n",
    "            continue\n",
    "\n",
    "        contestantDict = dict()               #init new dict for contestant\n",
    "        numtd = 0\n",
    "        for td in tr.find_all(\"td\"):          #for each column of data,\n",
    "            if (numtd == 0):\n",
    "                contestantDict['name'] = td   #save data in dictionary\n",
    "            if (numtd == 1):\n",
    "                contestantDict['age'] = td\n",
    "            if (numtd == 2):\n",
    "                contestantDict['hometown'] = td\n",
    "            if (numtd == 3):\n",
    "                contestantDict['occupation'] = td   \n",
    "            if (numtd == 4):\n",
    "                contestantDict['eliminated'] = td\n",
    "            numtd += 1\n",
    "        numtr += 1\n",
    "        contestantDict['season'] = sn   #include season num in dict\n",
    "        \n",
    "        listOfContestantDicts.append(contestantDict) #add dict to list of dicts\n",
    "        \n",
    "    seasonsDict[sn] = listOfContestantDicts  #key = season num, val=list of contestant dicts\n",
    "\n",
    "print seasonsDict[5][0]['hometown']"
   ]
  },
  {
   "cell_type": "code",
   "execution_count": null,
   "metadata": {
    "collapsed": true
   },
   "outputs": [],
   "source": []
  }
 ],
 "metadata": {
  "kernelspec": {
   "display_name": "Python 2",
   "language": "python",
   "name": "python2"
  },
  "language_info": {
   "codemirror_mode": {
    "name": "ipython",
    "version": 2
   },
   "file_extension": ".py",
   "mimetype": "text/x-python",
   "name": "python",
   "nbconvert_exporter": "python",
   "pygments_lexer": "ipython2",
   "version": "2.7.10"
  }
 },
 "nbformat": 4,
 "nbformat_minor": 0
}
