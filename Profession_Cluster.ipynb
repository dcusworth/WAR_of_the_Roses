{
 "cells": [
  {
   "cell_type": "markdown",
   "metadata": {},
   "source": [
    "# Profession Clustering"
   ]
  },
  {
   "cell_type": "markdown",
   "metadata": {},
   "source": [
    "Here we categorize each contestant's profession into one of nine classes according to the International Standard Classification of Occupations (http://www.ilo.org/public/english/bureau/stat/isco/isco08/index.htm). "
   ]
  },
  {
   "cell_type": "code",
   "execution_count": 1,
   "metadata": {
    "collapsed": true
   },
   "outputs": [],
   "source": [
    "%matplotlib inline\n",
    "import numpy as np\n",
    "import scipy as sp\n",
    "import matplotlib as mpl\n",
    "import matplotlib.cm as cm\n",
    "import matplotlib.pyplot as plt\n",
    "import pandas as pd\n",
    "import time\n",
    "pd.set_option('display.width', 500)\n",
    "pd.set_option('display.max_columns', 100)\n",
    "pd.set_option('display.notebook_repr_html', True)\n",
    "import seaborn as sns\n",
    "sns.set_style(\"whitegrid\")\n",
    "sns.set_context(\"poster\")\n",
    "from pyquery import PyQuery as pq\n",
    "from bs4 import BeautifulSoup\n",
    "import requests\n",
    "import json\n",
    "from geopy import geocoders\n",
    "import math\n",
    "import gensim\n",
    "import nltk\n",
    "import difflib"
   ]
  },
  {
   "cell_type": "markdown",
   "metadata": {},
   "source": [
    "Open contestant dictionaries with occupation data (from Wikipedia scrape)."
   ]
  },
  {
   "cell_type": "code",
   "execution_count": 2,
   "metadata": {
    "collapsed": true
   },
   "outputs": [],
   "source": [
    "#Import seasonsDict.json which contains hometown information\n",
    "with open(\"tempdata/listAllDicts.json\") as json_file:\n",
    "    seasons = json.load(json_file)"
   ]
  },
  {
   "cell_type": "code",
   "execution_count": 52,
   "metadata": {
    "collapsed": true
   },
   "outputs": [],
   "source": [
    "#Make a function that get's contestant's profession for a given season\n",
    "def get_profession(choose_season):\n",
    "    town_dict = {}\n",
    "    for idict in seasons:\n",
    "        if idict[\"season\"] == choose_season:\n",
    "            if idict[\"elimination\"] == \"bachelor\":\n",
    "                bachtown = idict[\"occupation\"]\n",
    "            else:\n",
    "                if idict[\"name\"] == \"Kacie Boguskie\":\n",
    "                    idict[\"occupation\"] = \"Administrative assistant\"\n",
    "                town_dict.update({idict['name']:idict['occupation']})\n",
    "    return town_dict"
   ]
  },
  {
   "cell_type": "code",
   "execution_count": 3,
   "metadata": {
    "collapsed": false
   },
   "outputs": [
    {
     "data": {
      "text/html": [
       "<div>\n",
       "<table border=\"1\" class=\"dataframe\">\n",
       "  <thead>\n",
       "    <tr style=\"text-align: right;\">\n",
       "      <th></th>\n",
       "      <th>ISCO 08 Code</th>\n",
       "      <th>Title EN</th>\n",
       "    </tr>\n",
       "  </thead>\n",
       "  <tbody>\n",
       "    <tr>\n",
       "      <th>0</th>\n",
       "      <td>1</td>\n",
       "      <td>Managers</td>\n",
       "    </tr>\n",
       "    <tr>\n",
       "      <th>1</th>\n",
       "      <td>11</td>\n",
       "      <td>Chief executives, senior officials and legisla...</td>\n",
       "    </tr>\n",
       "    <tr>\n",
       "      <th>2</th>\n",
       "      <td>111</td>\n",
       "      <td>Legislators and senior officials</td>\n",
       "    </tr>\n",
       "  </tbody>\n",
       "</table>\n",
       "</div>"
      ],
      "text/plain": [
       "   ISCO 08 Code                                           Title EN\n",
       "0             1                                           Managers\n",
       "1            11  Chief executives, senior officials and legisla...\n",
       "2           111                   Legislators and senior officials"
      ]
     },
     "execution_count": 3,
     "metadata": {},
     "output_type": "execute_result"
    }
   ],
   "source": [
    "#Download a csv of a list of classified professions from the ISCO\n",
    "#https://en.wikipedia.org/wiki/International_Standard_Classification_of_Occupations\n",
    "#http://www.ilo.org/public/english/bureau/stat/isco/isco08/index.htm\n",
    "professions = pd.read_csv(\"professions.csv\")\n",
    "professions.head(3)\n"
   ]
  },
  {
   "cell_type": "markdown",
   "metadata": {},
   "source": [
    "## Categorize "
   ]
  },
  {
   "cell_type": "markdown",
   "metadata": {},
   "source": [
    "We categorize by matching the contestants' profession to the list of keyed professions given by the ISCO. We only require 75% of a string match to cateogorize. If there are several profession types that match the contestants' profession, we categorize by finding which category gave the most matches.\n",
    "\n",
    "Since not all contestant professions are given by the ISCO, we make exceptions for several edge cases - i.e. we manually categorize the professions to give a match. "
   ]
  },
  {
   "cell_type": "code",
   "execution_count": 68,
   "metadata": {
    "collapsed": false
   },
   "outputs": [],
   "source": [
    "prof_sent = map(lambda r: r.split(\" \"), professions[\"Title EN\"].tolist())\n",
    "isco_code = professions[\"ISCO 08 Code\"].tolist()\n",
    "prof_list = professions[\"Title EN\"].tolist()\n",
    "\n",
    "def get_occupation(season_num):\n",
    "    #Get names and professions\n",
    "    nprof = get_profession(season_num)\n",
    "    conts = nprof.keys()\n",
    "    all_jobs = nprof.values()\n",
    "\n",
    "    #Make profession names cleaner for processing\n",
    "    all_jobs = map(lambda r: r.replace(\"&\",\"\"), all_jobs)\n",
    "    all_jobs = map(lambda r: r.replace(\"/\",\" \"), all_jobs)\n",
    "    all_jobs = map(lambda r: r.replace(\"  \",\" \"), all_jobs)\n",
    "\n",
    "    #Replace words we a prior (or post-priori) know will give problems to cluster\n",
    "    all_jobs = [u\"assistant\" if \"aralegal\" in s else s for s in all_jobs]\n",
    "    all_jobs = [u\"lawyer\" if \"ttorney\" in s else s for s in all_jobs]\n",
    "    all_jobs = [u\"Professionals\" if s==\"Wedding Coordinator\" else s for s in all_jobs]\n",
    "    all_jobs = [u\"child care\" if (s==\"Nanny\") | (s==\"Homemaker\") else s for s in all_jobs]\n",
    "    all_jobs = [u\"sales\" if \"merchant\" in s else s for s in all_jobs]\n",
    "    all_jobs = [u\"dancer\" if s==\"Radio City Rockette\" else s for s in all_jobs]\n",
    "    all_jobs = [u\"fashion model\" if (\"Model\" in s) | (\"model\" in s) else s for s in all_jobs]\n",
    "    all_jobs = [u\"Hairdressers\" if \"tylist\" in s else s for s in all_jobs]\n",
    "    all_jobs = [u\"sports\" if s==\"acrobat\" else s for s in all_jobs]\n",
    "    all_jobs = [u\"executive recruiter\" if s==\"IT recruiter\" else s for s in all_jobs]\n",
    "    all_jobs = [u\"Administrative Assistant\" if s==\"Assistant\" else s for s in all_jobs]\n",
    "    all_jobs = [u\"beauticians\" if (\"sthetician\" in s) | (s==\"Salon Owner\") | \\\n",
    "                (s==\"Cosmetics Consultant\") else s for s in all_jobs]\n",
    "    all_jobs = [u\"Songwriter singer\" if s==\"Singer-songwriter\" else s for s in all_jobs]\n",
    "    all_jobs = [u\"Medical Assistant\" if s==\"Medical Technician\" else s for s in all_jobs]\n",
    "    all_jobs = [u\"Advertising account manager\" if s==\"Advertising Executive\" else s for s in all_jobs]\n",
    "    all_jobs = [u\"sports\" if s==\"WWE Diva-in-Training\" else s for s in all_jobs]\n",
    "    all_jobs = [u\"doctor\" if \"hysician\" in s else s for s in all_jobs]\n",
    "    all_jobs = [u\"author\" if s==\"Blogger\" else s for s in all_jobs]\n",
    "    all_jobs = [u\"chief executive\" if \"ntrepreneur\" in s else s for s in all_jobs]\n",
    "    all_jobs = [u\"food service\" if \"waitress\" in s else s for s in all_jobs]\n",
    "    all_jobs = [u\"education\" if (\"student\" in s) | (\"Student\" in s) else s for s in all_jobs]\n",
    "    all_jobs = [u\"Creative and performing artists\" if \"Theatre\" in s else s for s in all_jobs]\n",
    "    all_jobs = [u\"Aircraft pilot\" if s=='Commercial Pilot' else s for s in all_jobs]\n",
    "    all_jobs = [u\"education assistant\" if s=='College Admissions' else s for s in all_jobs]\n",
    "    all_jobs = [u\"Management and organization analysts\" if s=='Personal Organizer' else s for s in all_jobs]\n",
    "    all_jobs = [u\"Journalists\" if s=='Local News Reporter' else s for s in all_jobs]\n",
    "    all_jobs = [u\"Medical assistants\" if 'Nurse' in s else s for s in all_jobs]\n",
    "    all_jobs = [u\"Services managers not elsewhere classified\" if s=='Nursing Home Owner' else s for s in all_jobs]\n",
    "    all_jobs = [u\"dancers\" if \"heerleader\" in s else s for s in all_jobs]\n",
    "    all_jobs = [u\"Medical sales\" if 'Cadaver Tissue Saleswoman' in s else s for s in all_jobs]\n",
    "    all_jobs = [u\"education\" if s=='Guidance Counselor' else s for s in all_jobs]\n",
    "\n",
    "\n",
    "    #Now we sift through the list of professions to just get the nouns\n",
    "    #Our assumption is that the nouns of a profession provide the best classification\n",
    "    all_nouns = []\n",
    "    for sentence in all_jobs:\n",
    "        stokens = nltk.word_tokenize(sentence)\n",
    "        sent_noun = []\n",
    "        for word, part_of_speech in nltk.pos_tag(stokens):\n",
    "            if part_of_speech in ['NN', 'NNS', 'NNP', 'NNPS']:\n",
    "                sent_noun.append(word)\n",
    "        all_nouns.append(sent_noun)\n",
    "\n",
    "    #Do a string search comparison with the professions.csv file\n",
    "    #We match (with 75% accuracy) each contestant's profession with the ISCO professions\n",
    "    #If there is a match, we save the category number (from 0xxx - 9xxx)\n",
    "    prof_dict = {}\n",
    "    all_codes = []\n",
    "    all_names = []\n",
    "    for iprof,sent in enumerate(all_nouns):\n",
    "        for word in sent:\n",
    "            for ii,profs in enumerate(prof_sent):\n",
    "                wmatches = difflib.get_close_matches(word, profs, cutoff=.75)\n",
    "                if wmatches:\n",
    "                    all_names.append(prof_list[ii])\n",
    "                    all_codes.append(isco_code[ii])\n",
    "            \n",
    "        #Get first value of codes\n",
    "        fnum = map(lambda r: int(str(r)[0]), all_codes)\n",
    "        counts = [fnum.count(q) for q in range(9)] #Count which code is most\n",
    "        job_type = np.where(counts==np.max(counts))[0][0]\n",
    "        if np.sum(counts) == 0:\n",
    "            job_type=999\n",
    "            \n",
    "        #Append jobs type\n",
    "        prof_dict.update({conts[iprof] : job_type})\n",
    "        all_codes=[]\n",
    "        all_names=[]\n",
    "        \n",
    "    return prof_dict\n"
   ]
  },
  {
   "cell_type": "code",
   "execution_count": 69,
   "metadata": {
    "collapsed": false
   },
   "outputs": [
    {
     "name": "stdout",
     "output_type": "stream",
     "text": [
      "season  13  done\n",
      "season  14  done\n",
      "season  15  done\n",
      "season  16  done\n",
      "season  17  done\n",
      "season  18  done\n",
      "season  19  done\n"
     ]
    }
   ],
   "source": [
    "season_nums = range(13,20)\n",
    "\n",
    "#Run over all seasons\n",
    "profession_dict = {}\n",
    "for season_num in season_nums:\n",
    "    profession_dict.update({season_num: get_occupation(season_num)})\n",
    "    print \"season \", season_num, \" done\""
   ]
  },
  {
   "cell_type": "code",
   "execution_count": 71,
   "metadata": {
    "collapsed": false
   },
   "outputs": [],
   "source": [
    "with open('profession_dict.json', 'w') as fp:\n",
    "    json.dump(profession_dict, fp)"
   ]
  },
  {
   "cell_type": "code",
   "execution_count": null,
   "metadata": {
    "collapsed": true
   },
   "outputs": [],
   "source": []
  }
 ],
 "metadata": {
  "kernelspec": {
   "display_name": "Python 2",
   "language": "python",
   "name": "python2"
  },
  "language_info": {
   "codemirror_mode": {
    "name": "ipython",
    "version": 2
   },
   "file_extension": ".py",
   "mimetype": "text/x-python",
   "name": "python",
   "nbconvert_exporter": "python",
   "pygments_lexer": "ipython2",
   "version": "2.7.10"
  }
 },
 "nbformat": 4,
 "nbformat_minor": 0
}
