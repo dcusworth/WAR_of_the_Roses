{
 "cells": [
  {
   "cell_type": "code",
   "execution_count": 1,
   "metadata": {
    "collapsed": true
   },
   "outputs": [],
   "source": [
    "# special IPython command to prepare the notebook for matplotlib\n",
    "%matplotlib inline \n",
    "\n",
    "import numpy as np\n",
    "import pandas as pd\n",
    "import scipy.stats as stats\n",
    "import matplotlib.pyplot as plt\n",
    "import sklearn\n",
    "import statsmodels.api as sm\n",
    "\n",
    "import seaborn as sns\n",
    "sns.set_style(\"whitegrid\")\n",
    "sns.set_context(\"poster\")\n",
    "\n",
    "# special matplotlib argument for improved plots\n",
    "from matplotlib import rcParams\n",
    "\n",
    "\n",
    "import scipy as sp\n",
    "import matplotlib as mpl\n",
    "import matplotlib.cm as cm\n",
    "import time\n",
    "pd.set_option('display.width', 500)\n",
    "pd.set_option('display.max_columns', 100)\n",
    "pd.set_option('display.notebook_repr_html', True)\n",
    "import seaborn as sns\n",
    "sns.set_style(\"whitegrid\")\n",
    "sns.set_context(\"poster\")\n",
    "import requests\n",
    "import json\n",
    "import math\n",
    "\n",
    "from sklearn.grid_search import GridSearchCV\n",
    "from sklearn.metrics import confusion_matrix\n",
    "from sklearn.cross_validation import train_test_split\n",
    "from sklearn.linear_model import LogisticRegression\n",
    "from sklearn.metrics import roc_curve, auc\n"
   ]
  },
  {
   "cell_type": "code",
   "execution_count": 2,
   "metadata": {
    "collapsed": true
   },
   "outputs": [],
   "source": [
    "#Import all data sources\n",
    "\n",
    "#Twitter\n",
    "with open(\"twitter_sentiment.json\") as json_file:\n",
    "    twitter = json.load(json_file)\n",
    "    \n",
    "#Distances\n",
    "with open(\"distances.json\") as json_file:\n",
    "    distances = json.load(json_file)\n",
    "    \n",
    "#Geo-Cluster\n",
    "with open(\"geo_cluster.json\") as json_file:\n",
    "    geo_cluster = json.load(json_file)\n",
    "    \n",
    "#Profession\n",
    "with open(\"profession_dict.json\") as json_file:\n",
    "    professions = json.load(json_file)\n",
    "    \n",
    "#Wiki Info\n",
    "wiki = pd.read_csv(\"contestantDF.csv\")\n",
    "\n",
    "#Date Guide\n",
    "date_guide = pd.read_csv(\"date_guide.csv\")\n",
    "\n",
    "#Competition Data\n",
    "with open(\"competition_data.json\") as json_file:\n",
    "    comp = json.load(json_file)"
   ]
  },
  {
   "cell_type": "code",
   "execution_count": 4,
   "metadata": {
    "collapsed": false
   },
   "outputs": [
    {
     "data": {
      "text/plain": [
       "{u'Ann': {},\n",
       " u'Dominique': {},\n",
       " u'Emily': {},\n",
       " u'Erica': {u'2009-01-05': {u'ntweet': 1, u'sentiment': 0.0},\n",
       "  u'2009-01-12': {u'ntweet': 0, u'sentiment': 0}},\n",
       " u'Jackie': {},\n",
       " u'Jillian': {u'2009-01-05': {u'ntweet': 0, u'sentiment': 0},\n",
       "  u'2009-01-12': {u'ntweet': 2, u'sentiment': -0.25},\n",
       "  u'2009-01-19': {u'ntweet': 0, u'sentiment': 0},\n",
       "  u'2009-01-26': {u'ntweet': 2, u'sentiment': 0.0},\n",
       "  u'2009-02-02': {u'ntweet': 8, u'sentiment': -0.15625},\n",
       "  u'2009-02-09': {u'ntweet': 20, u'sentiment': -0.0375}},\n",
       " u'Julie': {},\n",
       " u'Kari': {u'2009-01-05': {u'ntweet': 0, u'sentiment': 0},\n",
       "  u'2009-01-12': {u'ntweet': 0, u'sentiment': 0}},\n",
       " u'Lauren': {u'2009-01-05': {u'ntweet': 0, u'sentiment': 0},\n",
       "  u'2009-01-12': {u'ntweet': 2, u'sentiment': -0.5},\n",
       "  u'2009-01-19': {u'ntweet': 0, u'sentiment': 0}},\n",
       " u'Lisa': {u'2009-01-05': {u'ntweet': 2, u'sentiment': 0.0}},\n",
       " u'Megan': {u'2009-01-05': {u'ntweet': 1, u'sentiment': 0.0},\n",
       "  u'2009-01-12': {u'ntweet': 2, u'sentiment': 0.0},\n",
       "  u'2009-01-19': {u'ntweet': 5, u'sentiment': -0.2}},\n",
       " u'Melissa': {u'2009-01-05': {u'ntweet': 3,\n",
       "   u'sentiment': -0.16666666666666666},\n",
       "  u'2009-01-12': {u'ntweet': 2, u'sentiment': 0.0},\n",
       "  u'2009-01-19': {u'ntweet': 1, u'sentiment': 1.0},\n",
       "  u'2009-01-26': {u'ntweet': 8, u'sentiment': 0.33333333333333337},\n",
       "  u'2009-02-02': {u'ntweet': 14, u'sentiment': 0.11904761904761907},\n",
       "  u'2009-02-09': {u'ntweet': 16, u'sentiment': -0.046875},\n",
       "  u'2009-02-16': {u'ntweet': 49, u'sentiment': 0.01870748299319728}},\n",
       " u'Molly': {u'2009-01-05': {u'ntweet': 4, u'sentiment': 0.125},\n",
       "  u'2009-01-12': {u'ntweet': 4, u'sentiment': 0.75},\n",
       "  u'2009-01-19': {u'ntweet': 1, u'sentiment': 0.0},\n",
       "  u'2009-01-26': {u'ntweet': 5, u'sentiment': -0.3},\n",
       "  u'2009-02-02': {u'ntweet': 13, u'sentiment': -0.07692307692307693},\n",
       "  u'2009-02-09': {u'ntweet': 9, u'sentiment': 0.0},\n",
       "  u'2009-02-16': {u'ntweet': 36, u'sentiment': 0.004629629629629626}},\n",
       " u'Naomi': {u'2009-01-05': {u'ntweet': 0, u'sentiment': 0},\n",
       "  u'2009-01-12': {u'ntweet': 0, u'sentiment': 0},\n",
       "  u'2009-01-19': {u'ntweet': 0, u'sentiment': 0},\n",
       "  u'2009-01-26': {u'ntweet': 0, u'sentiment': 0},\n",
       "  u'2009-02-02': {u'ntweet': 6, u'sentiment': 0.02777777777777778}},\n",
       " u'Natalie': {u'2009-01-05': {u'ntweet': 1, u'sentiment': 0.0},\n",
       "  u'2009-01-12': {u'ntweet': 0, u'sentiment': 0}},\n",
       " u'Nicole': {},\n",
       " u'Raquel': {u'2009-01-05': {u'ntweet': 0, u'sentiment': 0}},\n",
       " u'Renee': {},\n",
       " u'Shannon': {u'2009-01-05': {u'ntweet': 2, u'sentiment': 0.5},\n",
       "  u'2009-01-12': {u'ntweet': 3, u'sentiment': 0.0},\n",
       "  u'2009-01-19': {u'ntweet': 1, u'sentiment': 0.0}},\n",
       " u'Sharon': {u'2009-01-05': {u'ntweet': 0, u'sentiment': 0}},\n",
       " u'Shelby': {},\n",
       " u'Stacia': {},\n",
       " u'Stephanie': {u'2009-01-05': {u'ntweet': 2, u'sentiment': 0.0},\n",
       "  u'2009-01-12': {u'ntweet': 4, u'sentiment': 0.3333333333333333},\n",
       "  u'2009-01-19': {u'ntweet': 4, u'sentiment': 0.08333333333333333},\n",
       "  u'2009-01-26': {u'ntweet': 6, u'sentiment': -0.16666666666666666}},\n",
       " u'Treasure': {}}"
      ]
     },
     "execution_count": 4,
     "metadata": {},
     "output_type": "execute_result"
    }
   ],
   "source": [
    "twitter['13']"
   ]
  },
  {
   "cell_type": "code",
   "execution_count": null,
   "metadata": {
    "collapsed": true
   },
   "outputs": [],
   "source": []
  }
 ],
 "metadata": {
  "kernelspec": {
   "display_name": "Python 2",
   "language": "python",
   "name": "python2"
  },
  "language_info": {
   "codemirror_mode": {
    "name": "ipython",
    "version": 2
   },
   "file_extension": ".py",
   "mimetype": "text/x-python",
   "name": "python",
   "nbconvert_exporter": "python",
   "pygments_lexer": "ipython2",
   "version": "2.7.10"
  }
 },
 "nbformat": 4,
 "nbformat_minor": 0
}
