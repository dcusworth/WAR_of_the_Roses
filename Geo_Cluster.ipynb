{
 "cells": [
  {
   "cell_type": "markdown",
   "metadata": {},
   "source": [
    "# Geo-Clustering\n",
    "\n",
    "Here we group contestant's by region. We use \"Economic Area Groupings\" provided by the FCC (http://transition.fcc.gov/oet/info/maps/areas/). \n",
    "\n",
    "![Image of EAG](eag1.png)"
   ]
  },
  {
   "cell_type": "code",
   "execution_count": 2,
   "metadata": {
    "collapsed": true
   },
   "outputs": [],
   "source": [
    "%matplotlib inline\n",
    "import numpy as np\n",
    "import scipy as sp\n",
    "import matplotlib as mpl\n",
    "import matplotlib.cm as cm\n",
    "import matplotlib.pyplot as plt\n",
    "import pandas as pd\n",
    "import time\n",
    "pd.set_option('display.width', 500)\n",
    "pd.set_option('display.max_columns', 100)\n",
    "pd.set_option('display.notebook_repr_html', True)\n",
    "import seaborn as sns\n",
    "sns.set_style(\"whitegrid\")\n",
    "sns.set_context(\"poster\")\n",
    "from pyquery import PyQuery as pq\n",
    "from bs4 import BeautifulSoup\n",
    "import requests\n",
    "import json\n",
    "from geopy import geocoders\n",
    "import math"
   ]
  },
  {
   "cell_type": "code",
   "execution_count": 3,
   "metadata": {
    "collapsed": false
   },
   "outputs": [],
   "source": [
    "#Import seasonsDict.json which contains hometown information\n",
    "with open(\"tempdata/listAllDicts.json\") as json_file:\n",
    "    seasons = json.load(json_file)\n"
   ]
  },
  {
   "cell_type": "markdown",
   "metadata": {},
   "source": [
    "Here get the hometown information from each candidate"
   ]
  },
  {
   "cell_type": "code",
   "execution_count": 39,
   "metadata": {
    "collapsed": false
   },
   "outputs": [],
   "source": [
    "#Make a function that get's contestant's hometown for a given season\n",
    "#Update known errors in the dictionary\n",
    "def get_hometowns(choose_season):\n",
    "    town_dict = {}\n",
    "    for idict in seasons:\n",
    "        if idict[\"season\"] == choose_season:\n",
    "            if idict[\"elimination\"] == \"bachelor\":\n",
    "                bachtown = idict[\"hometown\"]\n",
    "            else:\n",
    "                if idict[\"name\"] == \"Kacie Boguskie\":\n",
    "                    idict[\"hometown\"] = \"Clarksville, Tennessee\"\n",
    "                elif idict[\"name\"] == \"Shira Astrof\":\n",
    "                    idict[\"hometown\"] = \"Massapequa Park, New York\"\n",
    "                town_dict.update({idict['name']:idict['hometown']})\n",
    "    return bachtown, town_dict\n"
   ]
  },
  {
   "cell_type": "markdown",
   "metadata": {},
   "source": [
    "Open a text file from http://transition.fcc.gov/oet/info/maps/areas/data/2000/FCCCNTY2K.txt. Pare list down just to States, EAG.\n"
   ]
  },
  {
   "cell_type": "code",
   "execution_count": 34,
   "metadata": {
    "collapsed": false
   },
   "outputs": [],
   "source": [
    "#Open FCC text file\n",
    "fcc = pd.read_csv(\"FCCCNTY2K.csv\")\n",
    "\n",
    "#Retrieve EAG codes\n",
    "state_codes = fcc.groupby(\"STATE\").first()\n",
    "eag = dict(state_codes[\"EAG_220\"])\n"
   ]
  },
  {
   "cell_type": "markdown",
   "metadata": {},
   "source": [
    "To convert hometowns in (city, state) format, we use the python package \"geopy\" which accepts input in our format, and returns the lat/lon coordinates of the center of town. "
   ]
  },
  {
   "cell_type": "code",
   "execution_count": 32,
   "metadata": {
    "collapsed": false
   },
   "outputs": [],
   "source": [
    "#Make function that matches contestants' hometown/state to EAG code\n",
    "def get_eag(season_num):\n",
    "    bhome, hometowns = get_hometowns(season_num)\n",
    "\n",
    "    states = [ss.split(\",\")[1][1:] for ss in hometowns.values()]\n",
    "    cnames = hometowns.keys()\n",
    "\n",
    "    eag_vals = []\n",
    "    for state in states:\n",
    "        try:\n",
    "            eag_vals.append(eag[state])\n",
    "        except:\n",
    "            #If contestant is foreign - add a 7th category\n",
    "            eag_vals.append(7)\n",
    "\n",
    "    out_dict = dict(zip(cnames, eag_vals))\n",
    "\n",
    "    return out_dict"
   ]
  },
  {
   "cell_type": "markdown",
   "metadata": {},
   "source": [
    "Run over all seasons and save the output as a dictionary"
   ]
  },
  {
   "cell_type": "code",
   "execution_count": 42,
   "metadata": {
    "collapsed": false
   },
   "outputs": [
    {
     "name": "stdout",
     "output_type": "stream",
     "text": [
      "season  13  done\n",
      "season  14  done\n",
      "season  15  done\n",
      "season  16  done\n",
      "season  17  done\n",
      "season  18  done\n",
      "season  19  done\n"
     ]
    }
   ],
   "source": [
    "season_nums = range(13,20)\n",
    "\n",
    "#Run over all seasons\n",
    "geo_dict = {}\n",
    "for season_num in season_nums:\n",
    "    geo_dict.update({season_num: get_eag(season_num)})\n",
    "    print \"season \", season_num, \" done\"\n"
   ]
  },
  {
   "cell_type": "code",
   "execution_count": 43,
   "metadata": {
    "collapsed": true
   },
   "outputs": [],
   "source": [
    "with open('geo_cluster.json', 'w') as fp:\n",
    "    json.dump(geo_dict, fp)"
   ]
  },
  {
   "cell_type": "code",
   "execution_count": null,
   "metadata": {
    "collapsed": true
   },
   "outputs": [],
   "source": []
  }
 ],
 "metadata": {
  "kernelspec": {
   "display_name": "Python 2",
   "language": "python",
   "name": "python2"
  },
  "language_info": {
   "codemirror_mode": {
    "name": "ipython",
    "version": 2
   },
   "file_extension": ".py",
   "mimetype": "text/x-python",
   "name": "python",
   "nbconvert_exporter": "python",
   "pygments_lexer": "ipython2",
   "version": "2.7.10"
  }
 },
 "nbformat": 4,
 "nbformat_minor": 0
}
