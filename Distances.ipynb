{
 "cells": [
  {
   "cell_type": "markdown",
   "metadata": {},
   "source": [
    "# Distance Indicator\n",
    "\n",
    "Here we create an predictor that is defined as the geographic (as the crow flies) distance between The Bachelor's hometown and each contestant"
   ]
  },
  {
   "cell_type": "code",
   "execution_count": 2,
   "metadata": {
    "collapsed": false
   },
   "outputs": [],
   "source": [
    "%matplotlib inline\n",
    "import numpy as np\n",
    "import scipy as sp\n",
    "import matplotlib as mpl\n",
    "import matplotlib.cm as cm\n",
    "import matplotlib.pyplot as plt\n",
    "import pandas as pd\n",
    "import time\n",
    "pd.set_option('display.width', 500)\n",
    "pd.set_option('display.max_columns', 100)\n",
    "pd.set_option('display.notebook_repr_html', True)\n",
    "import seaborn as sns\n",
    "sns.set_style(\"whitegrid\")\n",
    "sns.set_context(\"poster\")\n",
    "from pyquery import PyQuery as pq\n",
    "from bs4 import BeautifulSoup\n",
    "import requests\n",
    "import json\n",
    "from geopy import geocoders\n",
    "import math"
   ]
  },
  {
   "cell_type": "code",
   "execution_count": 3,
   "metadata": {
    "collapsed": false
   },
   "outputs": [],
   "source": [
    "#Import seasonsDict.json which contains hometown information\n",
    "with open(\"tempdata/listAllDicts.json\") as json_file:\n",
    "    seasons = json.load(json_file)\n"
   ]
  },
  {
   "cell_type": "markdown",
   "metadata": {},
   "source": [
    "Here get the hometown information from each candidate"
   ]
  },
  {
   "cell_type": "code",
   "execution_count": 4,
   "metadata": {
    "collapsed": false
   },
   "outputs": [],
   "source": [
    "#Make a function that get's contestant's hometown for a given season\n",
    "#Update known errors in the dictionary\n",
    "def get_hometowns(choose_season):\n",
    "    town_dict = {}\n",
    "    for idict in seasons:\n",
    "        if idict[\"season\"] == choose_season:\n",
    "            if idict[\"elimination\"] == \"bachelor\":\n",
    "                bachtown = idict[\"hometown\"]\n",
    "            else:\n",
    "                if idict[\"name\"] == \"Kacie Boguskie\":\n",
    "                    idict[\"hometown\"] = \"Clarksville, Tennessee\"\n",
    "                town_dict.update({idict['name']:idict['hometown']})\n",
    "    return bachtown, town_dict\n"
   ]
  },
  {
   "cell_type": "markdown",
   "metadata": {},
   "source": [
    "We use a function that computes the distance between two points on a sphere, which follows the following equation:\n",
    "\n",
    "$$ \\cos(arc length) = \\cos{\\phi_1}\\cos{\\phi_2} + \\sin{\\phi_1}\\sin{\\phi_2}\\cos{(\\theta_1 - \\theta_2)}$$\n",
    "\n",
    "We then multiply the arc length by the radius of the Earth to get the distance."
   ]
  },
  {
   "cell_type": "code",
   "execution_count": 5,
   "metadata": {
    "collapsed": true
   },
   "outputs": [],
   "source": [
    "#Create a function to compute distance between two lat/lon points on Earth\n",
    "#Borrows heavily from http://www.johndcook.com/blog/python_longitude_latitude/ \n",
    "def distance_on_unit_sphere(lat1, long1, lat2, long2):\n",
    " \n",
    "    # Convert latitude and longitude to \n",
    "    # spherical coordinates in radians.\n",
    "    degrees_to_radians = math.pi/180.0\n",
    "         \n",
    "    # phi = 90 - latitude\n",
    "    phi1 = (90.0 - lat1)*degrees_to_radians\n",
    "    phi2 = (90.0 - lat2)*degrees_to_radians\n",
    "         \n",
    "    # theta = longitude\n",
    "    theta1 = long1*degrees_to_radians\n",
    "    theta2 = long2*degrees_to_radians\n",
    "         \n",
    "    # Compute spherical distance from spherical coordinates.\n",
    "         \n",
    "    # For two locations in spherical coordinates \n",
    "    # (1, theta, phi) and (1, theta', phi')\n",
    "    # cosine( arc length ) = \n",
    "    #    sin phi sin phi' cos(theta-theta') + cos phi cos phi'\n",
    "    # distance = rho * arc length\n",
    "     \n",
    "    cos = (math.sin(phi1)*math.sin(phi2)*math.cos(theta1 - theta2) + \n",
    "           math.cos(phi1)*math.cos(phi2))\n",
    "    arc = math.acos( cos )\n",
    "    \n",
    "    Rearth = 3959 #in miles\n",
    " \n",
    "    return arc * Rearth"
   ]
  },
  {
   "cell_type": "markdown",
   "metadata": {},
   "source": [
    "To convert hometowns in (city, state) format, we use the python package \"geopy\" which accepts input in our format, and returns the lat/lon coordinates of the center of town. "
   ]
  },
  {
   "cell_type": "code",
   "execution_count": 6,
   "metadata": {
    "collapsed": false
   },
   "outputs": [],
   "source": [
    "#Make function that gets distance between contestant and Bachelor\n",
    "def get_contest_distance(hometown_output):\n",
    "    bach_home, c_home = hometown_output\n",
    "    \n",
    "    #Use geopy package to get lat/lon from location\n",
    "    gn = geocoders.Nominatim()\n",
    "    \n",
    "    #Get the Bachelor location\n",
    "    bhome = gn.geocode(bach_home)\n",
    "    blat = float(bhome.raw[\"lat\"])\n",
    "    blon = float(bhome.raw[\"lon\"])\n",
    "\n",
    "    #Find distance between bachelor and contestant distances\n",
    "    distance_dict = {}\n",
    "    for contestant in c_home.keys():\n",
    "        chome = gn.geocode(c_home[contestant])\n",
    "        clat = float(chome.raw[\"lat\"])\n",
    "        clon = float(chome.raw[\"lon\"])\n",
    "\n",
    "        #Find distance\n",
    "        distance_apart = distance_on_unit_sphere(blat, blon, clat, clon)\n",
    "\n",
    "        distance_dict.update({contestant: distance_apart})\n",
    "\n",
    "    return distance_dict\n",
    "    "
   ]
  },
  {
   "cell_type": "markdown",
   "metadata": {},
   "source": [
    "Run over all seasons and save the output as a dictionary"
   ]
  },
  {
   "cell_type": "code",
   "execution_count": 8,
   "metadata": {
    "collapsed": false
   },
   "outputs": [
    {
     "name": "stdout",
     "output_type": "stream",
     "text": [
      "season  13  done\n",
      "season  14  done\n",
      "season  15  done\n",
      "season  16  done\n",
      "season  17  done\n",
      "season  18  done\n",
      "season  19  done\n"
     ]
    }
   ],
   "source": [
    "season_nums = range(13,20)\n",
    "\n",
    "#Run over all seasons\n",
    "distance_dict = {}\n",
    "for season_num in season_nums:\n",
    "    distance_dict.update({season_num: get_contest_distance(get_hometowns(season_num))})\n",
    "    print \"season \", season_num, \" done\"\n"
   ]
  },
  {
   "cell_type": "code",
   "execution_count": 9,
   "metadata": {
    "collapsed": true
   },
   "outputs": [],
   "source": [
    "with open('distances.json', 'w') as fp:\n",
    "    json.dump(distance_dict, fp)"
   ]
  },
  {
   "cell_type": "code",
   "execution_count": 100,
   "metadata": {
    "collapsed": false
   },
   "outputs": [
    {
     "data": {
      "image/png": "[encoded data removed]",
      "text/plain": [
       "<matplotlib.figure.Figure at 0x10fadcdd0>"
      ]
     },
     "metadata": {},
     "output_type": "display_data"
    }
   ],
   "source": [
    "#from mpl_toolkits.basemap import Basemap\n",
    "\n",
    "#Make a function that maps hometowns.\n",
    "#NOTE: Only maps continental US.  No known contestants/bachelors from HI, Alaska, etc.\n",
    "#\n",
    "#input:\n",
    "#     hometown   = get_hometown() output (bach hometown and dict of contestant hometowns)\n",
    "#     subplotNum = position on grid of plots\n",
    "#     winnerTownNum = index of 'winnertowns' array (array of winners' hometowns)\n",
    "\n",
    "def make_maps(hometown_output, subplotNum, winnerTownNum):\n",
    "    bachelor_home, contestant_home = hometown_output\n",
    "    \n",
    "    #add new subplot of USA\n",
    "    ax=fig.add_subplot(subplotnum)\n",
    "    m = Basemap(projection='merc',llcrnrlat=24,urcrnrlat=50,\\\n",
    "            llcrnrlon=-127,urcrnrlon=-65,lat_ts=20,resolution='c')\n",
    "    m.drawmapboundary(fill_color='none')\n",
    "    m.drawcoastlines()\n",
    "    m.drawcountries()\n",
    "    #m.drawstates()\n",
    "    \n",
    "    #Use geopy package to get lat/lon from location\n",
    "    gn = geocoders.Nominatim()\n",
    "    \n",
    "    #Get the Bachelor location\n",
    "    bachHome = gn.geocode(bachelor_home)\n",
    "    bachLat = float(bachHome.raw[\"lat\"])\n",
    "    bachLon = float(bachHome.raw[\"lon\"])\n",
    "    \n",
    "    #put a big blue circle on Bachelor's hometown\n",
    "    x,y = m(bachLon, bachLat)\n",
    "    m.plot(x,y, 'bo')\n",
    "\n",
    "    #for each contestant in this season, put a little cyan dot\n",
    "    for contestant in contestant_home.keys():\n",
    "        contHome = gn.geocode(contestant_home[contestant])\n",
    "        contLat = float(contHome.raw[\"lat\"])\n",
    "        contLon = float(contHome.raw[\"lon\"])\n",
    "    \n",
    "        #put a dot on Contestant's hometown\n",
    "        xpt,ypt = m(contLon, contLat)\n",
    "        m.plot(xpt, ypt, 'c.')\n",
    "        \n",
    "    #put a red star on winner's hometown\n",
    "    winnerHome = gn.geocode(winnertowns[winnerTownNum])\n",
    "    winnerLat = float(winnerHome.raw[\"lat\"])\n",
    "    winnerLon = float(winnerHome.raw[\"lon\"])\n",
    "        \n",
    "    wx,wy = m(winnerLon, winnerLat)\n",
    "    m.plot(wx, wy, 'r*')\n",
    "\n",
    "\n",
    "#http://matplotlib.org/api/axes_api.html#matplotlib.axes.Axes.plot"
   ]
  },
  {
   "cell_type": "code",
   "execution_count": 102,
   "metadata": {
    "collapsed": false
   },
   "outputs": [
    {
     "ename": "GeocoderTimedOut",
     "evalue": "Service timed out",
     "output_type": "error",
     "traceback": [
      "\u001b[0;31m---------------------------------------------------------------------------\u001b[0m",
      "\u001b[0;31mGeocoderTimedOut\u001b[0m                          Traceback (most recent call last)",
      "\u001b[0;32m<ipython-input-102-ae0ab391121e>\u001b[0m in \u001b[0;36m<module>\u001b[0;34m()\u001b[0m\n\u001b[1;32m     12\u001b[0m \u001b[0;31m#for each season, plot hometowns\u001b[0m\u001b[0;34m\u001b[0m\u001b[0;34m\u001b[0m\u001b[0m\n\u001b[1;32m     13\u001b[0m \u001b[0;32mfor\u001b[0m \u001b[0mseasonnum\u001b[0m \u001b[0;32min\u001b[0m \u001b[0mseason_nums\u001b[0m\u001b[0;34m:\u001b[0m\u001b[0;34m\u001b[0m\u001b[0m\n\u001b[0;32m---> 14\u001b[0;31m     \u001b[0mmake_maps\u001b[0m\u001b[0;34m(\u001b[0m\u001b[0mget_hometowns\u001b[0m\u001b[0;34m(\u001b[0m\u001b[0mseasonnum\u001b[0m\u001b[0;34m)\u001b[0m\u001b[0;34m,\u001b[0m \u001b[0msubplotnum\u001b[0m\u001b[0;34m,\u001b[0m \u001b[0mnumWinnerTown\u001b[0m\u001b[0;34m)\u001b[0m\u001b[0;34m\u001b[0m\u001b[0m\n\u001b[0m\u001b[1;32m     15\u001b[0m     \u001b[0msubplotnum\u001b[0m \u001b[0;34m+=\u001b[0m \u001b[0;36m1\u001b[0m\u001b[0;34m\u001b[0m\u001b[0m\n\u001b[1;32m     16\u001b[0m     \u001b[0mnumWinnerTown\u001b[0m \u001b[0;34m+=\u001b[0m \u001b[0;36m1\u001b[0m\u001b[0;34m\u001b[0m\u001b[0m\n",
      "\u001b[0;32m<ipython-input-100-c5e4cd282af1>\u001b[0m in \u001b[0;36mmake_maps\u001b[0;34m(hometown_output, subplotNum, winnerTownNum)\u001b[0m\n\u001b[1;32m     39\u001b[0m     \u001b[0;31m#for each contestant in this season, put a little cyan dot\u001b[0m\u001b[0;34m\u001b[0m\u001b[0;34m\u001b[0m\u001b[0m\n\u001b[1;32m     40\u001b[0m     \u001b[0;32mfor\u001b[0m \u001b[0mcontestant\u001b[0m \u001b[0;32min\u001b[0m \u001b[0mcontestant_home\u001b[0m\u001b[0;34m.\u001b[0m\u001b[0mkeys\u001b[0m\u001b[0;34m(\u001b[0m\u001b[0;34m)\u001b[0m\u001b[0;34m:\u001b[0m\u001b[0;34m\u001b[0m\u001b[0m\n\u001b[0;32m---> 41\u001b[0;31m         \u001b[0mcontHome\u001b[0m \u001b[0;34m=\u001b[0m \u001b[0mgn\u001b[0m\u001b[0;34m.\u001b[0m\u001b[0mgeocode\u001b[0m\u001b[0;34m(\u001b[0m\u001b[0mcontestant_home\u001b[0m\u001b[0;34m[\u001b[0m\u001b[0mcontestant\u001b[0m\u001b[0;34m]\u001b[0m\u001b[0;34m)\u001b[0m\u001b[0;34m\u001b[0m\u001b[0m\n\u001b[0m\u001b[1;32m     42\u001b[0m         \u001b[0mcontLat\u001b[0m \u001b[0;34m=\u001b[0m \u001b[0mfloat\u001b[0m\u001b[0;34m(\u001b[0m\u001b[0mcontHome\u001b[0m\u001b[0;34m.\u001b[0m\u001b[0mraw\u001b[0m\u001b[0;34m[\u001b[0m\u001b[0;34m\"lat\"\u001b[0m\u001b[0;34m]\u001b[0m\u001b[0;34m)\u001b[0m\u001b[0;34m\u001b[0m\u001b[0m\n\u001b[1;32m     43\u001b[0m         \u001b[0mcontLon\u001b[0m \u001b[0;34m=\u001b[0m \u001b[0mfloat\u001b[0m\u001b[0;34m(\u001b[0m\u001b[0mcontHome\u001b[0m\u001b[0;34m.\u001b[0m\u001b[0mraw\u001b[0m\u001b[0;34m[\u001b[0m\u001b[0;34m\"lon\"\u001b[0m\u001b[0;34m]\u001b[0m\u001b[0;34m)\u001b[0m\u001b[0;34m\u001b[0m\u001b[0m\n",
      "\u001b[0;32m/Users/seananmurphy/anaconda/lib/python2.7/site-packages/geopy/geocoders/osm.pyc\u001b[0m in \u001b[0;36mgeocode\u001b[0;34m(self, query, exactly_one, timeout, addressdetails, language, geometry)\u001b[0m\n\u001b[1;32m    191\u001b[0m         \u001b[0mlogger\u001b[0m\u001b[0;34m.\u001b[0m\u001b[0mdebug\u001b[0m\u001b[0;34m(\u001b[0m\u001b[0;34m\"%s.geocode: %s\"\u001b[0m\u001b[0;34m,\u001b[0m \u001b[0mself\u001b[0m\u001b[0;34m.\u001b[0m\u001b[0m__class__\u001b[0m\u001b[0;34m.\u001b[0m\u001b[0m__name__\u001b[0m\u001b[0;34m,\u001b[0m \u001b[0murl\u001b[0m\u001b[0;34m)\u001b[0m\u001b[0;34m\u001b[0m\u001b[0m\n\u001b[1;32m    192\u001b[0m         return self._parse_json(\n\u001b[0;32m--> 193\u001b[0;31m             \u001b[0mself\u001b[0m\u001b[0;34m.\u001b[0m\u001b[0m_call_geocoder\u001b[0m\u001b[0;34m(\u001b[0m\u001b[0murl\u001b[0m\u001b[0;34m,\u001b[0m \u001b[0mtimeout\u001b[0m\u001b[0;34m=\u001b[0m\u001b[0mtimeout\u001b[0m\u001b[0;34m)\u001b[0m\u001b[0;34m,\u001b[0m \u001b[0mexactly_one\u001b[0m\u001b[0;34m\u001b[0m\u001b[0m\n\u001b[0m\u001b[1;32m    194\u001b[0m         )\n\u001b[1;32m    195\u001b[0m \u001b[0;34m\u001b[0m\u001b[0m\n",
      "\u001b[0;32m/Users/seananmurphy/anaconda/lib/python2.7/site-packages/geopy/geocoders/base.pyc\u001b[0m in \u001b[0;36m_call_geocoder\u001b[0;34m(self, url, timeout, raw, requester, deserializer, **kwargs)\u001b[0m\n\u001b[1;32m    161\u001b[0m             \u001b[0;32melif\u001b[0m \u001b[0misinstance\u001b[0m\u001b[0;34m(\u001b[0m\u001b[0merror\u001b[0m\u001b[0;34m,\u001b[0m \u001b[0mURLError\u001b[0m\u001b[0;34m)\u001b[0m\u001b[0;34m:\u001b[0m\u001b[0;34m\u001b[0m\u001b[0m\n\u001b[1;32m    162\u001b[0m                 \u001b[0;32mif\u001b[0m \u001b[0;34m\"timed out\"\u001b[0m \u001b[0;32min\u001b[0m \u001b[0mmessage\u001b[0m\u001b[0;34m:\u001b[0m\u001b[0;34m\u001b[0m\u001b[0m\n\u001b[0;32m--> 163\u001b[0;31m                     \u001b[0;32mraise\u001b[0m \u001b[0mGeocoderTimedOut\u001b[0m\u001b[0;34m(\u001b[0m\u001b[0;34m'Service timed out'\u001b[0m\u001b[0;34m)\u001b[0m\u001b[0;34m\u001b[0m\u001b[0m\n\u001b[0m\u001b[1;32m    164\u001b[0m                 \u001b[0;32melif\u001b[0m \u001b[0;34m\"unreachable\"\u001b[0m \u001b[0;32min\u001b[0m \u001b[0mmessage\u001b[0m\u001b[0;34m:\u001b[0m\u001b[0;34m\u001b[0m\u001b[0m\n\u001b[1;32m    165\u001b[0m                     \u001b[0;32mraise\u001b[0m \u001b[0mGeocoderUnavailable\u001b[0m\u001b[0;34m(\u001b[0m\u001b[0;34m'Service not available'\u001b[0m\u001b[0;34m)\u001b[0m\u001b[0;34m\u001b[0m\u001b[0m\n",
      "\u001b[0;31mGeocoderTimedOut\u001b[0m: Service timed out"
     ]
    },
    {
     "data": {
      "image/png": "[encoded data removed]",
      "text/plain": [
       "<matplotlib.figure.Figure at 0x10c109450>"
      ]
     },
     "metadata": {},
     "output_type": "display_data"
    }
   ],
   "source": [
    "#Make Array of winners' hometowns\n",
    "winnertowns = []\n",
    "for sdict in seasons:\n",
    "    if sdict[\"elimination\"] == \"bachelor\":\n",
    "        winnertowns.append(sdict[\"hometown\"])\n",
    "\n",
    "fig = plt.figure()  \n",
    "subplotnum = 421    #4=numrows, 2=num cols, 1=starting axis to use\n",
    "numWinnerTown = 0\n",
    "\n",
    "#for each season, plot hometowns\n",
    "for seasonnum in season_nums:\n",
    "    make_maps(get_hometowns(seasonnum), subplotnum, numWinnerTown)\n",
    "    subplotnum += 1\n",
    "    numWinnerTown += 1"
   ]
  },
  {
   "cell_type": "code",
   "execution_count": null,
   "metadata": {
    "collapsed": true
   },
   "outputs": [],
   "source": []
  }
 ],
 "metadata": {
  "kernelspec": {
   "display_name": "Python 2",
   "language": "python",
   "name": "python2"
  },
  "language_info": {
   "codemirror_mode": {
    "name": "ipython",
    "version": 2
   },
   "file_extension": ".py",
   "mimetype": "text/x-python",
   "name": "python",
   "nbconvert_exporter": "python",
   "pygments_lexer": "ipython2",
   "version": "2.7.10"
  }
 },
 "nbformat": 4,
 "nbformat_minor": 0
}
